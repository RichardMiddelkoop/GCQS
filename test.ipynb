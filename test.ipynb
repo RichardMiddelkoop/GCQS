{
 "cells": [
  {
   "cell_type": "code",
   "execution_count": 1,
   "metadata": {},
   "outputs": [],
   "source": [
    "from qiskit import QuantumCircuit\n",
    "import qiskit.circuit as qc\n",
    "from qiskit import QuantumRegister\n",
    "from qiskit_ibm_provider import IBMProvider\n",
    "from qiskit import transpile\n",
    "import numpy as np\n",
    "import math\n",
    "\n",
    "provider = IBMProvider()\n",
    "backend = provider.get_backend('ibm_perth')\n"
   ]
  },
  {
   "cell_type": "code",
   "execution_count": 31,
   "metadata": {},
   "outputs": [
    {
     "data": {
      "text/plain": [
       "0.018198344236854097"
      ]
     },
     "execution_count": 31,
     "metadata": {},
     "output_type": "execute_result"
    }
   ],
   "source": [
    "backend.properties().gate_error('cx',[0,1])"
   ]
  },
  {
   "cell_type": "code",
   "execution_count": 54,
   "metadata": {},
   "outputs": [
    {
     "name": "stdout",
     "output_type": "stream",
     "text": [
      "        ┌───┐┌───┐\n",
      "q489_0: ┤ H ├┤ X ├\n",
      "        ├───┤└───┘\n",
      "q489_1: ┤ H ├─────\n",
      "        ├───┤     \n",
      "q489_2: ┤ H ├─────\n",
      "        ├───┤     \n",
      "q489_3: ┤ H ├─────\n",
      "        └───┘     \n",
      "        ┌───┐┌───┐ ░ ┌─┐         \n",
      "q489_0: ┤ H ├┤ X ├─░─┤M├─────────\n",
      "        ├───┤└───┘ ░ └╥┘┌─┐      \n",
      "q489_1: ┤ H ├──────░──╫─┤M├──────\n",
      "        ├───┤      ░  ║ └╥┘┌─┐   \n",
      "q489_2: ┤ H ├──────░──╫──╫─┤M├───\n",
      "        ├───┤      ░  ║  ║ └╥┘┌─┐\n",
      "q489_3: ┤ H ├──────░──╫──╫──╫─┤M├\n",
      "        └───┘      ░  ║  ║  ║ └╥┘\n",
      "   c: 4/══════════════╩══╩══╩══╩═\n",
      "                      0  1  2  3 \n",
      "{'1010': 84, '0001': 60, '0110': 64, '1011': 68, '0010': 63, '0000': 65, '1100': 58, '1110': 60, '0101': 53, '1101': 64, '1000': 53, '1111': 71, '0100': 59, '0111': 72, '1001': 68, '0011': 62}\n"
     ]
    }
   ],
   "source": [
    "import random\n",
    "from qiskit import QuantumRegister\n",
    "from qiskit import QuantumCircuit\n",
    "from qiskit import Aer\n",
    "from qiskit import transpile\n",
    "def ising_1d_instance(qubits):\n",
    "    def rand1d(qubits):\n",
    "        return [random.choice([+1, -1]) for _ in range(qubits)]\n",
    "\n",
    "    # transverse field terms\n",
    "    h = rand1d(qubits)\n",
    "    # links between lines\n",
    "    j = rand1d(qubits-1)\n",
    "    return (h, j)\n",
    "\n",
    "nr_of_qubits = 4\n",
    "h,j = ising_1d_instance(nr_of_qubits)\n",
    "qr = QuantumRegister(nr_of_qubits)\n",
    "circuit = QuantumCircuit(qr)\n",
    "circuit.h([0])\n",
    "circuit.h([1])\n",
    "circuit.h([2])\n",
    "circuit.h([3])\n",
    "circuit.x(qubit=[0])\n",
    "print(circuit)\n",
    "\n",
    "def add_measurement(circuit, qubits):\n",
    "    # Create a Quantum Circuit\n",
    "    meas = QuantumCircuit(qubits, qubits)\n",
    "    meas.barrier(range(qubits))\n",
    "    # map the quantum measurement to the classical bits\n",
    "    meas.measure(range(qubits), range(qubits))\n",
    "\n",
    "    # The Qiskit circuit object supports composition using\n",
    "    # the compose method.\n",
    "    circuit.add_register(meas.cregs[0])\n",
    "    qc = circuit.compose(meas)\n",
    "    return qc\n",
    "\n",
    "qc = add_measurement(circuit, nr_of_qubits)\n",
    "print(qc)\n",
    "\n",
    "backend_sim = Aer.get_backend('qasm_simulator')\n",
    "counts = backend_sim.run(transpile(qc, backend_sim), shots=1024).result().get_counts()\n",
    "\n",
    "print(counts)"
   ]
  },
  {
   "cell_type": "code",
   "execution_count": 71,
   "metadata": {},
   "outputs": [
    {
     "name": "stdout",
     "output_type": "stream",
     "text": [
      "['1010', '0001', '0110', '1011', '0010', '0000', '1100', '1110', '0101', '1101', '1000', '1111', '0100', '0111', '1001', '0011']\n",
      "[84, 60, 64, 68, 63, 65, 58, 60, 53, 64, 53, 71, 59, 72, 68, 62]\n",
      "0\n",
      "0\n",
      "-120\n",
      "136\n",
      "0\n",
      "126\n",
      "126\n",
      "126\n",
      "246\n",
      "246\n",
      "118\n",
      "12\n",
      "12\n",
      "130\n",
      "274\n",
      "2\n"
     ]
    }
   ],
   "source": [
    "shots = 1024\n",
    "\n",
    "def compute_expected_energy(counts,h,j,shots):\n",
    "    def bool_to_state(integer):\n",
    "        # Convert the 1/0 of a bit to +1/-1\n",
    "        return 2*int(integer)-1\n",
    "\n",
    "    # Get total energy of each count\n",
    "    r1=list(counts.keys())\n",
    "    r2=list(counts.values())\n",
    "    total_energy = 0\n",
    "\n",
    "    for k in range(0,len(r1)):\n",
    "        # r2[k] is the number of shots that have this result\n",
    "        # r1[k] is the result as qubits (like 0001)\n",
    "        \n",
    "        # Energy of h\n",
    "        for bit_h in range(0,len(r1[k])):\n",
    "            total_energy += bool_to_state(r1[k][bit_h]) * h[bit_h]*r2[k]\n",
    "        # Energy of j\n",
    "        for bit_value in range(0,len(r1[k])-1):\n",
    "            total_energy += bool_to_state(r1[k][bit_value])*bool_to_state(r1[k][bit_value+1])*j[bit_value]*r2[k]\n",
    "    expectation_value = total_energy/shots\n",
    "    return expectation_value\n",
    "\n",
    "# 0001 -> -1,-1,-1,1\n",
    "# ij_1 -1*-1*j[0]\n",
    "\n",
    "\n",
    "\n",
    "# def digit_sum(n):\n",
    "#     num_str = str(n)\n",
    "#     sum = 0\n",
    "#     for i in range(0, len(num_str)):\n",
    "#         sum += int(num_str[i])\n",
    "#     return sum\n",
    "def bool_to_state(integer):\n",
    "    # Convert the 1/0 of a bit to +1/-1\n",
    "    return 2*int(integer)-1\n",
    "r1=list(counts.keys())\n",
    "r2=list(counts.values())\n",
    "h = [-1,1,1,-1]\n",
    "print(r1)\n",
    "print(r2)\n",
    "total = 0\n",
    "for k in range(0,len(r1)):\n",
    "    print(total)\n",
    "    total += sum([bool_to_state(r1[k][bit_value])*h[bit_value] for bit_value in range(0,len(r1[k]))])*r2[k]\n",
    "# for k in range(0,len(r1)):\n",
    "#         expectation_value+=(4-2*digit_sum(r1[j]))*r2[j]/shots\n",
    "# print(expectation_value)"
   ]
  },
  {
   "cell_type": "code",
   "execution_count": 83,
   "metadata": {},
   "outputs": [
    {
     "name": "stdout",
     "output_type": "stream",
     "text": [
      "       ┌───┐┌───────┐\n",
      "q68_0: ┤ H ├┤ Rx(1) ├\n",
      "       ├───┤├───────┤\n",
      "q68_1: ┤ H ├┤ Rx(2) ├\n",
      "       ├───┤└───────┘\n",
      "q68_2: ┤ H ├─────────\n",
      "       ├───┤         \n",
      "q68_3: ┤ H ├─────────\n",
      "       └───┘         \n",
      "ParameterView([Parameter(1), Parameter(2)])\n",
      "       ┌───┐┌───────────────────────┐\n",
      "q68_0: ┤ H ├┤ Rx(0.349398938987163) ├\n",
      "       ├───┤├───────────────────────┤\n",
      "q68_1: ┤ H ├┤ Rx(0.349398938987163) ├\n",
      "       ├───┤└───────────────────────┘\n",
      "q68_2: ┤ H ├─────────────────────────\n",
      "       ├───┤                         \n",
      "q68_3: ┤ H ├─────────────────────────\n",
      "       └───┘                         \n"
     ]
    }
   ],
   "source": [
    "from qiskit.circuit import QuantumCircuit, Parameter\n",
    "import numpy as np\n",
    "phi = Parameter(\"1\")\n",
    "phi2 = Parameter(\"2\")\n",
    "qr = QuantumRegister(nr_of_qubits)\n",
    "circuit = QuantumCircuit(qr)\n",
    "circuit.h([0])\n",
    "circuit.h([1])\n",
    "circuit.h([2])\n",
    "circuit.h([3])\n",
    "circuit.rx(phi,qubit=[0])\n",
    "circuit.rx(phi2,qubit=[1])\n",
    "print(circuit)\n",
    "print(circuit.parameters)\n",
    "value = np.random.random()\n",
    "parameters = [value for _ in range(2)]\n",
    "print(circuit.bind_parameters(parameters))"
   ]
  },
  {
   "cell_type": "code",
   "execution_count": 84,
   "metadata": {},
   "outputs": [],
   "source": [
    "from CLQGA import genome_to_circuit, compute_gradient"
   ]
  },
  {
   "cell_type": "code",
   "execution_count": 105,
   "metadata": {},
   "outputs": [
    {
     "name": "stdout",
     "output_type": "stream",
     "text": [
      "101111010110000111011001100100010111011000110100100001011101101110\n",
      "                    \n",
      "q206_0: ────────────\n",
      "        ┌──────────┐\n",
      "q206_1: ┤ U(0,1,2) ├\n",
      "        └──────────┘\n",
      "q206_2: ────────────\n",
      "                    \n",
      "q206_3: ────────────\n",
      "                    \n",
      "q206_4: ────────────\n",
      "                    \n",
      "{'0000': 117, '0010': 907}\n",
      "total_energy =  -4418\n",
      "EXPECTED ENERGY =  -4.314453125\n",
      "{'0010': 932, '0000': 92}\n",
      "total_energy =  -4568\n",
      "EXPECTED ENERGY =  -4.4609375\n",
      "{'0000': 104, '0010': 920}\n",
      "total_energy =  -4496\n",
      "EXPECTED ENERGY =  -4.390625\n",
      "{'0000': 99, '0010': 925}\n",
      "total_energy =  -4526\n",
      "EXPECTED ENERGY =  -4.419921875\n",
      "{'0000': 108, '0010': 916}\n",
      "total_energy =  -4472\n",
      "EXPECTED ENERGY =  -4.3671875\n",
      "{'0000': 94, '0010': 930}\n",
      "total_energy =  -4556\n",
      "EXPECTED ENERGY =  -4.44921875\n",
      "257.8125\n",
      "                                                                 \n",
      "q206_0: ─────────────────────────────────────────────────────────\n",
      "        ┌───────────────────────────────────────────────────────┐\n",
      "q206_1: ┤ U(3.78641820063877,3.78641820063877,3.78641820063877) ├\n",
      "        └───────────────────────────────────────────────────────┘\n",
      "q206_2: ─────────────────────────────────────────────────────────\n",
      "                                                                 \n",
      "q206_3: ─────────────────────────────────────────────────────────\n",
      "                                                                 \n",
      "q206_4: ─────────────────────────────────────────────────────────\n",
      "                                                                 \n"
     ]
    }
   ],
   "source": [
    "# TEST for gradient computation\n",
    "CIRCUIT_DEPTH = 6\n",
    "GATE_ENCODING_LENGTH = 6 \n",
    "QUBIT_SECTIONING_LENGTH = 5\n",
    "NR_OF_QUBITS = 5\n",
    "NR_OF_GATES = CIRCUIT_DEPTH\n",
    "NR_OF_ISING_QUBITS = 4\n",
    "CHROMOSOME_LENGTH = CIRCUIT_DEPTH * (GATE_ENCODING_LENGTH + QUBIT_SECTIONING_LENGTH)\n",
    "genome = ''.join(str(random.randint(0,1)) for _ in range(CHROMOSOME_LENGTH))\n",
    "print(genome)\n",
    "circuit, nr_of_parameters = genome_to_circuit(genome, NR_OF_QUBITS, NR_OF_GATES)\n",
    "print(circuit)\n",
    "observable_h, observable_j = ising_1d_instance(NR_OF_ISING_QUBITS)\n",
    "gradient, circuit = compute_gradient(circuit, nr_of_parameters, NR_OF_ISING_QUBITS, observable_h, observable_j, 1024)\n",
    "print(gradient)\n",
    "print(circuit)"
   ]
  },
  {
   "cell_type": "code",
   "execution_count": 6,
   "metadata": {},
   "outputs": [],
   "source": [
    "from qiskit.providers.ibmq import IBMQ\n",
    "from qiskit.providers.fake_provider import FakeProviderForBackendV2\n",
    "from qiskit.providers import aer\n",
    "from HelperCLQGA import find_backend\n",
    "backend = \"ibm_perth\"\n",
    "# provider = FakeProviderForBackendV2()\n",
    "# available_cloud_backends = provider.backends()\n",
    "# print(available_cloud_backends)\n",
    "# for i in available_cloud_backends: \n",
    "#     if i.name == backend:\n",
    "#         backend = i\n",
    "provider = FakeProviderForBackendV2()\n",
    "available_cloud_backends = provider.backends()"
   ]
  },
  {
   "cell_type": "code",
   "execution_count": 8,
   "metadata": {},
   "outputs": [
    {
     "name": "stdout",
     "output_type": "stream",
     "text": [
      "fake_almaden_v2\n",
      "fake_armonk_v2\n",
      "fake_athens_v2\n",
      "fake_auckland\n",
      "fake_belem_v2\n",
      "fake_boeblingen_v2\n",
      "fake_bogota_v2\n",
      "fake_brooklyn_v2\n",
      "fake_burlington_v2\n",
      "fake_cairo_v2\n",
      "fake_cambridge_v2\n",
      "fake_casablanca_v2\n",
      "fake_essex_v2\n",
      "fake_geneva\n",
      "fake_guadalupe_v2\n",
      "fake_hanoi_v2\n",
      "fake_jakarta_v2\n",
      "fake_johannesburg_v2\n",
      "fake_kolkata_v2\n",
      "fake_lagos_v2\n",
      "fake_lima\n",
      "fake_london_v2\n",
      "fake_manhattan_v2\n",
      "fake_manila_v2\n",
      "fake_melbourne_v2\n",
      "fake_montreal_v2\n",
      "fake_mumbai_v2\n",
      "fake_nairobi_v2\n",
      "fake_oslo\n",
      "fake_ourense_v2\n",
      "fake_paris_v2\n",
      "fake_perth\n",
      "fake_prague\n",
      "fake_poughkeepsie_v2\n",
      "fake_quito_v2\n",
      "fake_rochester_v2\n",
      "fake_rome_v2\n",
      "fake_santiago_v2\n",
      "fake_sherbrooke\n",
      "fake_singapore_v2\n",
      "fake_sydney_v2\n",
      "fake_toronto_v2\n",
      "fake_valencia_v2\n",
      "fake_vigo_v2\n",
      "fake_washington_v2\n",
      "fake_yorktown_v2\n"
     ]
    }
   ],
   "source": [
    "for i in available_cloud_backends: \n",
    "     print(i.name)\n",
    "#  backend_sim.properties().gate_error('cx',[0,1])"
   ]
  },
  {
   "cell_type": "code",
   "execution_count": 11,
   "metadata": {},
   "outputs": [
    {
     "name": "stdout",
     "output_type": "stream",
     "text": [
      "1,  aaaab\n",
      "2,  bbbba\n"
     ]
    }
   ],
   "source": [
    "import random\n",
    "chromosome_child_0 = \"\"\n",
    "chromosome_child_1 = \"\"\n",
    "parents = [\"aaaaa\",\"bbbbb\"]\n",
    "for i in range(0,len(parents[0])):\n",
    "    if random.randint(0,1):\n",
    "        chromosome_child_0 +=parents[1][i]\n",
    "        chromosome_child_1 +=parents[0][i]\n",
    "    else:\n",
    "        chromosome_child_0 += parents[0][i]\n",
    "        chromosome_child_1 += parents[1][i]\n",
    "\n",
    "print(\"1, \",chromosome_child_0)\n",
    "print(\"2, \",chromosome_child_1)"
   ]
  },
  {
   "cell_type": "code",
   "execution_count": 23,
   "metadata": {},
   "outputs": [
    {
     "name": "stdout",
     "output_type": "stream",
     "text": [
      "[0.14285714285714285]\n",
      "[0.14285714285714285, 0.0]\n",
      "0.07142857142857142\n"
     ]
    }
   ],
   "source": [
    "individual = \"0000000\"\n",
    "elitism_population = [\"1110111\",\"1111111\"]\n",
    "match_percentage = []\n",
    "def match(subject_1,subject_2):\n",
    "    return sum([int(subject_1[i] == subject_2[i]) for i in range(0,len(subject_1))])/len(subject_1)\n",
    "for elite in elitism_population:\n",
    "    match_percentage.append(match(individual,elite))\n",
    "    print(match_percentage)\n",
    "print(sum(match_percentage)/len(match_percentage))"
   ]
  }
 ],
 "metadata": {
  "kernelspec": {
   "display_name": "Python 3",
   "language": "python",
   "name": "python3"
  },
  "language_info": {
   "codemirror_mode": {
    "name": "ipython",
    "version": 3
   },
   "file_extension": ".py",
   "mimetype": "text/x-python",
   "name": "python",
   "nbconvert_exporter": "python",
   "pygments_lexer": "ipython3",
   "version": "3.9.13"
  },
  "orig_nbformat": 4,
  "vscode": {
   "interpreter": {
    "hash": "ba398da8724e1d784c921a45a9f318102d2914d817e5f1854f0701fae7c3e0b5"
   }
  }
 },
 "nbformat": 4,
 "nbformat_minor": 2
}
