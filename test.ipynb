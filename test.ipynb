{
 "cells": [
  {
   "cell_type": "code",
   "execution_count": 1,
   "metadata": {},
   "outputs": [],
   "source": [
    "from qiskit import QuantumCircuit\n",
    "import qiskit.circuit as qc\n",
    "from qiskit import QuantumRegister\n",
    "from qiskit_ibm_provider import IBMProvider\n",
    "from qiskit import transpile\n",
    "import numpy as np\n",
    "import math\n",
    "\n",
    "provider = IBMProvider()\n",
    "backend = provider.get_backend('ibm_perth')\n"
   ]
  },
  {
   "cell_type": "code",
   "execution_count": 31,
   "metadata": {},
   "outputs": [
    {
     "data": {
      "text/plain": [
       "0.018198344236854097"
      ]
     },
     "execution_count": 31,
     "metadata": {},
     "output_type": "execute_result"
    }
   ],
   "source": [
    "backend.properties().gate_error('cx',[0,1])"
   ]
  },
  {
   "cell_type": "code",
   "execution_count": 57,
   "metadata": {},
   "outputs": [
    {
     "name": "stdout",
     "output_type": "stream",
     "text": [
      "       ┌───┐┌───┐\n",
      "q44_0: ┤ H ├┤ X ├\n",
      "       ├───┤└───┘\n",
      "q44_1: ┤ H ├─────\n",
      "       ├───┤     \n",
      "q44_2: ┤ H ├─────\n",
      "       ├───┤     \n",
      "q44_3: ┤ H ├─────\n",
      "       └───┘     \n",
      "       ┌───┐┌───┐ ░ ┌─┐         \n",
      "q44_0: ┤ H ├┤ X ├─░─┤M├─────────\n",
      "       ├───┤└───┘ ░ └╥┘┌─┐      \n",
      "q44_1: ┤ H ├──────░──╫─┤M├──────\n",
      "       ├───┤      ░  ║ └╥┘┌─┐   \n",
      "q44_2: ┤ H ├──────░──╫──╫─┤M├───\n",
      "       ├───┤      ░  ║  ║ └╥┘┌─┐\n",
      "q44_3: ┤ H ├──────░──╫──╫──╫─┤M├\n",
      "       └───┘      ░  ║  ║  ║ └╥┘\n",
      "  c: 4/══════════════╩══╩══╩══╩═\n",
      "                     0  1  2  3 \n",
      "{'1010': 60, '1111': 68, '0001': 56, '0000': 65, '0010': 60, '1110': 64, '1011': 57, '0111': 69, '0011': 64, '1100': 57, '0101': 77, '1001': 57, '1000': 64, '0110': 65, '1101': 66, '0100': 75}\n"
     ]
    }
   ],
   "source": [
    "import random\n",
    "from qiskit import QuantumRegister\n",
    "from qiskit import QuantumCircuit\n",
    "from qiskit import Aer\n",
    "from qiskit import transpile\n",
    "def ising_1d_instance(qubits):\n",
    "    def rand1d(qubits):\n",
    "        return [random.choice([+1, -1]) for _ in range(qubits)]\n",
    "\n",
    "    # transverse field terms\n",
    "    h = rand1d(qubits)\n",
    "    # links between lines\n",
    "    j = rand1d(qubits-1)\n",
    "    return (h, j)\n",
    "\n",
    "nr_of_qubits = 4\n",
    "h,j = ising_1d_instance(nr_of_qubits)\n",
    "qr = QuantumRegister(nr_of_qubits)\n",
    "circuit = QuantumCircuit(qr)\n",
    "circuit.h([0])\n",
    "circuit.h([1])\n",
    "circuit.h([2])\n",
    "circuit.h([3])\n",
    "circuit.x(qubit=[0])\n",
    "print(circuit)\n",
    "\n",
    "def add_measurement(circuit, qubits):\n",
    "    # Create a Quantum Circuit\n",
    "    meas = QuantumCircuit(qubits, qubits)\n",
    "    meas.barrier(range(qubits))\n",
    "    # map the quantum measurement to the classical bits\n",
    "    meas.measure(range(qubits), range(qubits))\n",
    "\n",
    "    # The Qiskit circuit object supports composition using\n",
    "    # the compose method.\n",
    "    circuit.add_register(meas.cregs[0])\n",
    "    qc = circuit.compose(meas)\n",
    "    return qc\n",
    "\n",
    "qc = add_measurement(circuit, nr_of_qubits)\n",
    "print(qc)\n",
    "\n",
    "backend_sim = Aer.get_backend('qasm_simulator')\n",
    "counts = backend_sim.run(transpile(qc, backend_sim), shots=1024).result().get_counts()\n",
    "\n",
    "print(counts)"
   ]
  },
  {
   "cell_type": "code",
   "execution_count": 62,
   "metadata": {},
   "outputs": [
    {
     "name": "stdout",
     "output_type": "stream",
     "text": [
      "1024\n"
     ]
    }
   ],
   "source": [
    "shots = 1024\n",
    "\n",
    "def compute_expected_energy(counts,h,j,shots):\n",
    "    def bool_to_state(integer):\n",
    "        # Convert the 1/0 of a bit to +1/-1\n",
    "        return 2*int(integer)-1\n",
    "\n",
    "    # Get total energy of each count\n",
    "    r1=list(counts.keys())\n",
    "    r2=list(counts.values())\n",
    "    total_energy = 0\n",
    "\n",
    "    for k in range(0,len(r1)):\n",
    "        # r2[k] is the number of shots that have this result\n",
    "        # r1[k] is the result as qubits (like 0001)\n",
    "        \n",
    "        # Energy of h\n",
    "        for bit_h in range(0,len(r1[k])):\n",
    "            total_energy += bool_to_state(r1[k][bit_h]) * h[bit_h]*r2[k]\n",
    "        # Energy of j\n",
    "        for bit_value in range(0,len(r1[k])-1):\n",
    "            total_energy += bool_to_state(r1[k][bit_value])*bool_to_state(r1[k][bit_value+1])*j[bit_value]*r2[k]\n",
    "    expectation_value = total_energy/shots\n",
    "    return expectation_value\n",
    "\n",
    "# 0001 -> -1,-1,-1,1\n",
    "# ij_1 -1*-1*j[0]\n",
    "\n",
    "\n",
    "\n",
    "# def digit_sum(n):\n",
    "#     num_str = str(n)\n",
    "#     sum = 0\n",
    "#     for i in range(0, len(num_str)):\n",
    "#         sum += int(num_str[i])\n",
    "#     return sum\n",
    "\n",
    "\n",
    "# print(r1)\n",
    "# print(r2)\n",
    "# for k in range(0,len(r1)):\n",
    "#         expectation_value+=(4-2*digit_sum(r1[j]))*r2[j]/shots\n",
    "# print(expectation_value)"
   ]
  },
  {
   "cell_type": "code",
   "execution_count": 83,
   "metadata": {},
   "outputs": [
    {
     "name": "stdout",
     "output_type": "stream",
     "text": [
      "       ┌───┐┌───────┐\n",
      "q68_0: ┤ H ├┤ Rx(1) ├\n",
      "       ├───┤├───────┤\n",
      "q68_1: ┤ H ├┤ Rx(2) ├\n",
      "       ├───┤└───────┘\n",
      "q68_2: ┤ H ├─────────\n",
      "       ├───┤         \n",
      "q68_3: ┤ H ├─────────\n",
      "       └───┘         \n",
      "ParameterView([Parameter(1), Parameter(2)])\n",
      "       ┌───┐┌───────────────────────┐\n",
      "q68_0: ┤ H ├┤ Rx(0.349398938987163) ├\n",
      "       ├───┤├───────────────────────┤\n",
      "q68_1: ┤ H ├┤ Rx(0.349398938987163) ├\n",
      "       ├───┤└───────────────────────┘\n",
      "q68_2: ┤ H ├─────────────────────────\n",
      "       ├───┤                         \n",
      "q68_3: ┤ H ├─────────────────────────\n",
      "       └───┘                         \n"
     ]
    }
   ],
   "source": [
    "from qiskit.circuit import QuantumCircuit, Parameter\n",
    "import numpy as np\n",
    "phi = Parameter(\"1\")\n",
    "phi2 = Parameter(\"2\")\n",
    "qr = QuantumRegister(nr_of_qubits)\n",
    "circuit = QuantumCircuit(qr)\n",
    "circuit.h([0])\n",
    "circuit.h([1])\n",
    "circuit.h([2])\n",
    "circuit.h([3])\n",
    "circuit.rx(phi,qubit=[0])\n",
    "circuit.rx(phi2,qubit=[1])\n",
    "print(circuit)\n",
    "print(circuit.parameters)\n",
    "value = np.random.random()\n",
    "parameters = [value for _ in range(2)]\n",
    "print(circuit.bind_parameters(parameters))"
   ]
  },
  {
   "cell_type": "code",
   "execution_count": 84,
   "metadata": {},
   "outputs": [],
   "source": [
    "from CLQGA import genome_to_circuit, compute_gradient"
   ]
  },
  {
   "cell_type": "code",
   "execution_count": 105,
   "metadata": {},
   "outputs": [
    {
     "name": "stdout",
     "output_type": "stream",
     "text": [
      "101111010110000111011001100100010111011000110100100001011101101110\n",
      "                    \n",
      "q206_0: ────────────\n",
      "        ┌──────────┐\n",
      "q206_1: ┤ U(0,1,2) ├\n",
      "        └──────────┘\n",
      "q206_2: ────────────\n",
      "                    \n",
      "q206_3: ────────────\n",
      "                    \n",
      "q206_4: ────────────\n",
      "                    \n",
      "{'0000': 117, '0010': 907}\n",
      "total_energy =  -4418\n",
      "EXPECTED ENERGY =  -4.314453125\n",
      "{'0010': 932, '0000': 92}\n",
      "total_energy =  -4568\n",
      "EXPECTED ENERGY =  -4.4609375\n",
      "{'0000': 104, '0010': 920}\n",
      "total_energy =  -4496\n",
      "EXPECTED ENERGY =  -4.390625\n",
      "{'0000': 99, '0010': 925}\n",
      "total_energy =  -4526\n",
      "EXPECTED ENERGY =  -4.419921875\n",
      "{'0000': 108, '0010': 916}\n",
      "total_energy =  -4472\n",
      "EXPECTED ENERGY =  -4.3671875\n",
      "{'0000': 94, '0010': 930}\n",
      "total_energy =  -4556\n",
      "EXPECTED ENERGY =  -4.44921875\n",
      "257.8125\n",
      "                                                                 \n",
      "q206_0: ─────────────────────────────────────────────────────────\n",
      "        ┌───────────────────────────────────────────────────────┐\n",
      "q206_1: ┤ U(3.78641820063877,3.78641820063877,3.78641820063877) ├\n",
      "        └───────────────────────────────────────────────────────┘\n",
      "q206_2: ─────────────────────────────────────────────────────────\n",
      "                                                                 \n",
      "q206_3: ─────────────────────────────────────────────────────────\n",
      "                                                                 \n",
      "q206_4: ─────────────────────────────────────────────────────────\n",
      "                                                                 \n"
     ]
    }
   ],
   "source": [
    "# TEST for gradient computation\n",
    "CIRCUIT_DEPTH = 6\n",
    "GATE_ENCODING_LENGTH = 6 \n",
    "QUBIT_SECTIONING_LENGTH = 5\n",
    "NR_OF_QUBITS = 5\n",
    "NR_OF_GATES = CIRCUIT_DEPTH\n",
    "NR_OF_ISING_QUBITS = 4\n",
    "CHROMOSOME_LENGTH = CIRCUIT_DEPTH * (GATE_ENCODING_LENGTH + QUBIT_SECTIONING_LENGTH)\n",
    "genome = ''.join(str(random.randint(0,1)) for _ in range(CHROMOSOME_LENGTH))\n",
    "print(genome)\n",
    "circuit, nr_of_parameters = genome_to_circuit(genome, NR_OF_QUBITS, NR_OF_GATES)\n",
    "print(circuit)\n",
    "observable_h, observable_j = ising_1d_instance(NR_OF_ISING_QUBITS)\n",
    "gradient, circuit = compute_gradient(circuit, nr_of_parameters, NR_OF_ISING_QUBITS, observable_h, observable_j, 1024)\n",
    "print(gradient)\n",
    "print(circuit)"
   ]
  }
 ],
 "metadata": {
  "kernelspec": {
   "display_name": "Python 3",
   "language": "python",
   "name": "python3"
  },
  "language_info": {
   "codemirror_mode": {
    "name": "ipython",
    "version": 3
   },
   "file_extension": ".py",
   "mimetype": "text/x-python",
   "name": "python",
   "nbconvert_exporter": "python",
   "pygments_lexer": "ipython3",
   "version": "3.11.2"
  },
  "orig_nbformat": 4,
  "vscode": {
   "interpreter": {
    "hash": "e7370f93d1d0cde622a1f8e1c04877d8463912d04d973331ad4851f04de6915a"
   }
  }
 },
 "nbformat": 4,
 "nbformat_minor": 2
}
