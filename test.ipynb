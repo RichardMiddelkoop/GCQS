{
 "cells": [
  {
   "cell_type": "code",
   "execution_count": 83,
   "metadata": {},
   "outputs": [
    {
     "name": "stdout",
     "output_type": "stream",
     "text": [
      "       ┌───┐┌───────┐\n",
      "q68_0: ┤ H ├┤ Rx(1) ├\n",
      "       ├───┤├───────┤\n",
      "q68_1: ┤ H ├┤ Rx(2) ├\n",
      "       ├───┤└───────┘\n",
      "q68_2: ┤ H ├─────────\n",
      "       ├───┤         \n",
      "q68_3: ┤ H ├─────────\n",
      "       └───┘         \n",
      "ParameterView([Parameter(1), Parameter(2)])\n",
      "       ┌───┐┌───────────────────────┐\n",
      "q68_0: ┤ H ├┤ Rx(0.349398938987163) ├\n",
      "       ├───┤├───────────────────────┤\n",
      "q68_1: ┤ H ├┤ Rx(0.349398938987163) ├\n",
      "       ├───┤└───────────────────────┘\n",
      "q68_2: ┤ H ├─────────────────────────\n",
      "       ├───┤                         \n",
      "q68_3: ┤ H ├─────────────────────────\n",
      "       └───┘                         \n"
     ]
    }
   ],
   "source": [
    "from qiskit.circuit import QuantumCircuit, Parameter\n",
    "import numpy as np\n",
    "phi = Parameter(\"1\")\n",
    "phi2 = Parameter(\"2\")\n",
    "qr = QuantumRegister(nr_of_qubits)\n",
    "circuit = QuantumCircuit(qr)\n",
    "circuit.h([0])\n",
    "circuit.h([1])\n",
    "circuit.h([2])\n",
    "circuit.h([3])\n",
    "circuit.rx(phi,qubit=[0])\n",
    "circuit.rx(phi2,qubit=[1])\n",
    "print(circuit)\n",
    "print(circuit.parameters)\n",
    "value = np.random.random()\n",
    "parameters = [value for _ in range(2)]\n",
    "print(circuit.bind_parameters(parameters))"
   ]
  },
  {
   "cell_type": "code",
   "execution_count": 23,
   "metadata": {},
   "outputs": [
    {
     "name": "stdout",
     "output_type": "stream",
     "text": [
      "[0.14285714285714285]\n",
      "[0.14285714285714285, 0.0]\n",
      "0.07142857142857142\n"
     ]
    }
   ],
   "source": [
    "individual = \"0000000\"\n",
    "elitism_population = [\"1110111\",\"1111111\"]\n",
    "match_percentage = []\n",
    "def match(subject_1,subject_2):\n",
    "    return sum([int(subject_1[i] == subject_2[i]) for i in range(0,len(subject_1))])/len(subject_1)\n",
    "for elite in elitism_population:\n",
    "    match_percentage.append(match(individual,elite))\n",
    "    print(match_percentage)\n",
    "print(sum(match_percentage)/len(match_percentage))"
   ]
  },
  {
   "cell_type": "code",
   "execution_count": 11,
   "metadata": {},
   "outputs": [],
   "source": [
    "from Experiments import saveLoad\n",
    "from CLQGA import Individual\n",
    "output = saveLoad(\"load\",\"experiment_10_april_ideal_1024_0\", None)\n",
    "experiment_population = output[0]\n",
    "experiment_duration = output[1]\n",
    "experiment_average_fitness_50_increment = output[2]\n",
    "experiment_average_crowd_score_50_increment = output[3]"
   ]
  },
  {
   "cell_type": "code",
   "execution_count": 12,
   "metadata": {},
   "outputs": [
    {
     "name": "stdout",
     "output_type": "stream",
     "text": [
      "[[<CLQGA.Individual object at 0x7fcc96c7b950>, <CLQGA.Individual object at 0x7fcc96a8d650>, <CLQGA.Individual object at 0x7fcc96aa3510>, <CLQGA.Individual object at 0x7fcc96aa1c90>, <CLQGA.Individual object at 0x7fcc96aa32d0>, <CLQGA.Individual object at 0x7fcc96aa04d0>, <CLQGA.Individual object at 0x7fcc96aa3410>, <CLQGA.Individual object at 0x7fcc96aa3190>, <CLQGA.Individual object at 0x7fcc96aa3250>, <CLQGA.Individual object at 0x7fcc96aa11d0>, <CLQGA.Individual object at 0x7fcc96aa0a90>, <CLQGA.Individual object at 0x7fcc96aa3d50>, <CLQGA.Individual object at 0x7fcc96aa1490>, <CLQGA.Individual object at 0x7fcc96aa0450>, <CLQGA.Individual object at 0x7fcc96aa1ed0>, <CLQGA.Individual object at 0x7fcc96aa2050>, <CLQGA.Individual object at 0x7fcc96aa2710>, <CLQGA.Individual object at 0x7fcc96aa1e90>, <CLQGA.Individual object at 0x7fcc96aa0510>, <CLQGA.Individual object at 0x7fcc96aa2ad0>, <CLQGA.Individual object at 0x7fcc96aa2090>, <CLQGA.Individual object at 0x7fcc96aa0390>, <CLQGA.Individual object at 0x7fcc96aa2c90>, <CLQGA.Individual object at 0x7fcc96aa3010>, <CLQGA.Individual object at 0x7fcc96aa21d0>, <CLQGA.Individual object at 0x7fcc96aa0410>, <CLQGA.Individual object at 0x7fcc96aa2890>, <CLQGA.Individual object at 0x7fcc96aa1c50>, <CLQGA.Individual object at 0x7fcc96aa37d0>, <CLQGA.Individual object at 0x7fcc96aa3d90>, <CLQGA.Individual object at 0x7fcc96aa07d0>, <CLQGA.Individual object at 0x7fcc96aa24d0>, <CLQGA.Individual object at 0x7fcc96aa36d0>, <CLQGA.Individual object at 0x7fcc96aa02d0>, <CLQGA.Individual object at 0x7fcc96aa1790>, <CLQGA.Individual object at 0x7fcc96aa2490>, <CLQGA.Individual object at 0x7fcc96aa2b50>, <CLQGA.Individual object at 0x7fcc96aa3e10>, <CLQGA.Individual object at 0x7fcc96aa0490>, <CLQGA.Individual object at 0x7fcc96aa0e50>, <CLQGA.Individual object at 0x7fcc96aa0810>, <CLQGA.Individual object at 0x7fcc96aa33d0>, <CLQGA.Individual object at 0x7fcc96aa0550>, <CLQGA.Individual object at 0x7fcc96aa0c10>, <CLQGA.Individual object at 0x7fcc96aa1a10>, <CLQGA.Individual object at 0x7fcc96aa3690>, <CLQGA.Individual object at 0x7fcc96aa0c90>, <CLQGA.Individual object at 0x7fcc96aa34d0>, <CLQGA.Individual object at 0x7fcc96aa0950>, <CLQGA.Individual object at 0x7fcc96aa2590>, <CLQGA.Individual object at 0x7fcc96aa0890>, <CLQGA.Individual object at 0x7fcc96aa0f50>, <CLQGA.Individual object at 0x7fcc96aa1990>, <CLQGA.Individual object at 0x7fcc96aa1d50>, <CLQGA.Individual object at 0x7fcc96aa0690>, <CLQGA.Individual object at 0x7fcc96aa3b90>, <CLQGA.Individual object at 0x7fcc96aa1290>, <CLQGA.Individual object at 0x7fcc96aa0190>, <CLQGA.Individual object at 0x7fcc96aa1710>, <CLQGA.Individual object at 0x7fcc96aa3f50>, <CLQGA.Individual object at 0x7fcc96aa1690>, <CLQGA.Individual object at 0x7fcc96aa3850>, <CLQGA.Individual object at 0x7fcc96aa3310>, <CLQGA.Individual object at 0x7fcc96aa00d0>, <CLQGA.Individual object at 0x7fcc96aa0350>, <CLQGA.Individual object at 0x7fcc96aa2e90>, <CLQGA.Individual object at 0x7fcc96aa2a10>, <CLQGA.Individual object at 0x7fcc96aa3450>, <CLQGA.Individual object at 0x7fcc96aa1210>, <CLQGA.Individual object at 0x7fcc96aa2a50>, <CLQGA.Individual object at 0x7fcc96aa2e10>, <CLQGA.Individual object at 0x7fcc96aa23d0>, <CLQGA.Individual object at 0x7fcc96aa3a10>, <CLQGA.Individual object at 0x7fcc96aa0590>, <CLQGA.Individual object at 0x7fcc96aa2e50>, <CLQGA.Individual object at 0x7fcc96aa2cd0>, <CLQGA.Individual object at 0x7fcc96aa2b10>, <CLQGA.Individual object at 0x7fcc96aa18d0>, <CLQGA.Individual object at 0x7fcc96aa2990>, <CLQGA.Individual object at 0x7fcc96aa0d90>, <CLQGA.Individual object at 0x7fcc96aa2b90>, <CLQGA.Individual object at 0x7fcc96aa3f90>, <CLQGA.Individual object at 0x7fcc96aa2550>, <CLQGA.Individual object at 0x7fcc96aa1d90>, <CLQGA.Individual object at 0x7fcc96aa2850>, <CLQGA.Individual object at 0x7fcc96aa3390>, <CLQGA.Individual object at 0x7fcc96aa1090>, <CLQGA.Individual object at 0x7fcc96aa5490>, <CLQGA.Individual object at 0x7fcc96aa6a90>, <CLQGA.Individual object at 0x7fcc96aa43d0>, <CLQGA.Individual object at 0x7fcc96aa7e10>, <CLQGA.Individual object at 0x7fcc96aa4790>, <CLQGA.Individual object at 0x7fcc96aa7a10>, <CLQGA.Individual object at 0x7fcc96aa6b50>, <CLQGA.Individual object at 0x7fcc96aa7ed0>, <CLQGA.Individual object at 0x7fcc96aa7f90>, <CLQGA.Individual object at 0x7fcc96aa6710>, <CLQGA.Individual object at 0x7fcc96aa78d0>, <CLQGA.Individual object at 0x7fcc96aa6f90>, <CLQGA.Individual object at 0x7fcc96aa5b10>], time.struct_time(tm_year=1970, tm_mon=1, tm_mday=1, tm_hour=11, tm_min=56, tm_sec=50, tm_wday=3, tm_yday=1, tm_isdst=0), [49790.8271532416], [0.4695925925925928], [0.007854891660285603]]\n"
     ]
    }
   ],
   "source": [
    "# [population,time.gmtime((time.perf_counter() - start_total_run_time)),data_average_fitness, data_average_crowd_score, data_average_error_score]\n",
    "print(output)"
   ]
  }
 ],
 "metadata": {
  "kernelspec": {
   "display_name": "Python 3",
   "language": "python",
   "name": "python3"
  },
  "language_info": {
   "codemirror_mode": {
    "name": "ipython",
    "version": 3
   },
   "file_extension": ".py",
   "mimetype": "text/x-python",
   "name": "python",
   "nbconvert_exporter": "python",
   "pygments_lexer": "ipython3",
   "version": "3.11.2"
  },
  "orig_nbformat": 4,
  "vscode": {
   "interpreter": {
    "hash": "ba398da8724e1d784c921a45a9f318102d2914d817e5f1854f0701fae7c3e0b5"
   }
  }
 },
 "nbformat": 4,
 "nbformat_minor": 2
}
