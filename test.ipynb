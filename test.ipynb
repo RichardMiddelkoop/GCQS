{
 "cells": [
  {
   "cell_type": "code",
   "execution_count": 83,
   "metadata": {},
   "outputs": [
    {
     "name": "stdout",
     "output_type": "stream",
     "text": [
      "       ┌───┐┌───────┐\n",
      "q68_0: ┤ H ├┤ Rx(1) ├\n",
      "       ├───┤├───────┤\n",
      "q68_1: ┤ H ├┤ Rx(2) ├\n",
      "       ├───┤└───────┘\n",
      "q68_2: ┤ H ├─────────\n",
      "       ├───┤         \n",
      "q68_3: ┤ H ├─────────\n",
      "       └───┘         \n",
      "ParameterView([Parameter(1), Parameter(2)])\n",
      "       ┌───┐┌───────────────────────┐\n",
      "q68_0: ┤ H ├┤ Rx(0.349398938987163) ├\n",
      "       ├───┤├───────────────────────┤\n",
      "q68_1: ┤ H ├┤ Rx(0.349398938987163) ├\n",
      "       ├───┤└───────────────────────┘\n",
      "q68_2: ┤ H ├─────────────────────────\n",
      "       ├───┤                         \n",
      "q68_3: ┤ H ├─────────────────────────\n",
      "       └───┘                         \n"
     ]
    }
   ],
   "source": [
    "from qiskit.circuit import QuantumCircuit, Parameter\n",
    "import numpy as np\n",
    "phi = Parameter(\"1\")\n",
    "phi2 = Parameter(\"2\")\n",
    "qr = QuantumRegister(nr_of_qubits)\n",
    "circuit = QuantumCircuit(qr)\n",
    "circuit.h([0])\n",
    "circuit.h([1])\n",
    "circuit.h([2])\n",
    "circuit.h([3])\n",
    "circuit.rx(phi,qubit=[0])\n",
    "circuit.rx(phi2,qubit=[1])\n",
    "print(circuit)\n",
    "print(circuit.parameters)\n",
    "value = np.random.random()\n",
    "parameters = [value for _ in range(2)]\n",
    "print(circuit.bind_parameters(parameters))"
   ]
  },
  {
   "cell_type": "code",
   "execution_count": 23,
   "metadata": {},
   "outputs": [
    {
     "name": "stdout",
     "output_type": "stream",
     "text": [
      "[0.14285714285714285]\n",
      "[0.14285714285714285, 0.0]\n",
      "0.07142857142857142\n"
     ]
    }
   ],
   "source": [
    "individual = \"0000000\"\n",
    "elitism_population = [\"1110111\",\"1111111\"]\n",
    "match_percentage = []\n",
    "def match(subject_1,subject_2):\n",
    "    return sum([int(subject_1[i] == subject_2[i]) for i in range(0,len(subject_1))])/len(subject_1)\n",
    "for elite in elitism_population:\n",
    "    match_percentage.append(match(individual,elite))\n",
    "    print(match_percentage)\n",
    "print(sum(match_percentage)/len(match_percentage))"
   ]
  },
  {
   "cell_type": "code",
   "execution_count": 13,
   "metadata": {},
   "outputs": [],
   "source": [
    "from experiments.Experiments import saveLoad\n",
    "from CLQGA import Individual\n",
    "output = saveLoad(\"load\",\"experiment_9_april_MUC__0\", None)\n",
    "experiment_population = output[0]\n",
    "experiment_duration = output[1]\n",
    "experiment_average_fitness_50_increment = output[2]\n",
    "experiment_average_crowd_score_50_increment = output[3]"
   ]
  },
  {
   "cell_type": "code",
   "execution_count": 14,
   "metadata": {},
   "outputs": [
    {
     "name": "stdout",
     "output_type": "stream",
     "text": [
      "[time.struct_time(tm_year=1970, tm_mon=1, tm_mday=1, tm_hour=20, tm_min=37, tm_sec=57, tm_wday=3, tm_yday=1, tm_isdst=0), [51364.6847869238, 49123.942950914185, 40966.57192727442, 47322.143118011205, 47601.98114940698, 47502.46705865293, 47771.330639944164, 45220.76456463997, 43942.712421448814, 50280.511427321006, 44020.73849075216, 47864.17897823599, 54085.52749314641, 45037.50666593698, 42338.821986508454, 45433.28073498909, 44444.96480977509, 46810.42378862526, 40467.290007518124, 42800.14815031977, 53543.78962664479, 54167.18295290197, 46261.843609307245, 52142.33406230515, 45241.986173349156, 42609.12716555319, 43864.976990534466, 42351.37234071031, 54460.315892682804, 47578.673909670244, 46386.31521717222, 48774.83928691846, 47695.26848224773, 48094.25362135701, 49126.757879732184, 51112.137260485106, 46799.11006353039, 49429.54725129526, 49438.23014243184, 50331.39936807622], [0.4311515151515152, 0.3923636363636364, 0.42521212121212115, 0.4148181818181817, 0.4102424242424242, 0.4148787878787877, 0.4154242424242425, 0.4146969696969696, 0.4276060606060605, 0.414272727272727, 0.41384848484848474, 0.41048484848484845, 0.41260606060606064, 0.40309090909090917, 0.4143333333333332, 0.4071818181818183, 0.4287878787878788, 0.4237272727272727, 0.4242424242424241, 0.3967272727272727, 0.41572727272727256, 0.39760606060606046, 0.40945454545454546, 0.4171818181818183, 0.42551515151515157, 0.3985757575757575, 0.4118484848484848, 0.421090909090909, 0.41624242424242447, 0.4079090909090909, 0.4093333333333331, 0.39645454545454556, 0.41054545454545455, 0.4122424242424241, 0.40154545454545465, 0.42684848484848475, 0.4005757575757575, 0.4052727272727274, 0.40733333333333344, 0.4095151515151517]]\n"
     ]
    }
   ],
   "source": [
    "# [population,time.gmtime((time.perf_counter() - start_total_run_time)),data_average_fitness, data_average_crowd_score]\n",
    "print(output[1:])\n"
   ]
  }
 ],
 "metadata": {
  "kernelspec": {
   "display_name": "Python 3",
   "language": "python",
   "name": "python3"
  },
  "language_info": {
   "codemirror_mode": {
    "name": "ipython",
    "version": 3
   },
   "file_extension": ".py",
   "mimetype": "text/x-python",
   "name": "python",
   "nbconvert_exporter": "python",
   "pygments_lexer": "ipython3",
   "version": "3.9.13"
  },
  "orig_nbformat": 4,
  "vscode": {
   "interpreter": {
    "hash": "ba398da8724e1d784c921a45a9f318102d2914d817e5f1854f0701fae7c3e0b5"
   }
  }
 },
 "nbformat": 4,
 "nbformat_minor": 2
}
