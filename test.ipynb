{
 "cells": [
  {
   "cell_type": "code",
   "execution_count": 83,
   "metadata": {},
   "outputs": [
    {
     "name": "stdout",
     "output_type": "stream",
     "text": [
      "       ┌───┐┌───────┐\n",
      "q68_0: ┤ H ├┤ Rx(1) ├\n",
      "       ├───┤├───────┤\n",
      "q68_1: ┤ H ├┤ Rx(2) ├\n",
      "       ├───┤└───────┘\n",
      "q68_2: ┤ H ├─────────\n",
      "       ├───┤         \n",
      "q68_3: ┤ H ├─────────\n",
      "       └───┘         \n",
      "ParameterView([Parameter(1), Parameter(2)])\n",
      "       ┌───┐┌───────────────────────┐\n",
      "q68_0: ┤ H ├┤ Rx(0.349398938987163) ├\n",
      "       ├───┤├───────────────────────┤\n",
      "q68_1: ┤ H ├┤ Rx(0.349398938987163) ├\n",
      "       ├───┤└───────────────────────┘\n",
      "q68_2: ┤ H ├─────────────────────────\n",
      "       ├───┤                         \n",
      "q68_3: ┤ H ├─────────────────────────\n",
      "       └───┘                         \n"
     ]
    }
   ],
   "source": [
    "from qiskit.circuit import QuantumCircuit, Parameter\n",
    "import numpy as np\n",
    "phi = Parameter(\"1\")\n",
    "phi2 = Parameter(\"2\")\n",
    "qr = QuantumRegister(nr_of_qubits)\n",
    "circuit = QuantumCircuit(qr)\n",
    "circuit.h([0])\n",
    "circuit.h([1])\n",
    "circuit.h([2])\n",
    "circuit.h([3])\n",
    "circuit.rx(phi,qubit=[0])\n",
    "circuit.rx(phi2,qubit=[1])\n",
    "print(circuit)\n",
    "print(circuit.parameters)\n",
    "value = np.random.random()\n",
    "parameters = [value for _ in range(2)]\n",
    "print(circuit.bind_parameters(parameters))"
   ]
  },
  {
   "cell_type": "code",
   "execution_count": 23,
   "metadata": {},
   "outputs": [
    {
     "name": "stdout",
     "output_type": "stream",
     "text": [
      "[0.14285714285714285]\n",
      "[0.14285714285714285, 0.0]\n",
      "0.07142857142857142\n"
     ]
    }
   ],
   "source": [
    "individual = \"0000000\"\n",
    "elitism_population = [\"1110111\",\"1111111\"]\n",
    "match_percentage = []\n",
    "def match(subject_1,subject_2):\n",
    "    return sum([int(subject_1[i] == subject_2[i]) for i in range(0,len(subject_1))])/len(subject_1)\n",
    "for elite in elitism_population:\n",
    "    match_percentage.append(match(individual,elite))\n",
    "    print(match_percentage)\n",
    "print(sum(match_percentage)/len(match_percentage))"
   ]
  },
  {
   "cell_type": "code",
   "execution_count": 16,
   "metadata": {},
   "outputs": [
    {
     "name": "stdout",
     "output_type": "stream",
     "text": [
      "349.609375\n",
      "92.88094111497783\n",
      "75.29099263967404\n",
      "58.59375\n",
      "15.625\n",
      "0.0\n",
      "0.0\n",
      "0.0\n"
     ]
    }
   ],
   "source": [
    "from experiments.Experiments import saveLoad\n",
    "from CLQGA import Individual\n",
    "output = saveLoad(\"load\",\"experiment_6_april_0\", None)\n",
    "experiment_population = output[0]\n",
    "experiment_duration = output[1]\n",
    "experiment_average_fitness_50_increment = output[2]\n",
    "experiment_average_crowd_score_50_increment = output[3]"
   ]
  },
  {
   "cell_type": "code",
   "execution_count": 15,
   "metadata": {},
   "outputs": [
    {
     "name": "stdout",
     "output_type": "stream",
     "text": [
      "[[<CLQGA.Individual object at 0x7fcaca417010>, <CLQGA.Individual object at 0x7fca6f590990>, <CLQGA.Individual object at 0x7fcaecc87210>, <CLQGA.Individual object at 0x7fca6f593c10>, <CLQGA.Individual object at 0x7fca6f5c8310>, <CLQGA.Individual object at 0x7fca751bec10>, <CLQGA.Individual object at 0x7fca6fa13ed0>, <CLQGA.Individual object at 0x7fca73e07c50>], time.struct_time(tm_year=1970, tm_mon=1, tm_mday=1, tm_hour=0, tm_min=1, tm_sec=19, tm_wday=3, tm_yday=1, tm_isdst=0), [], []]\n",
      "[<CLQGA.Individual object at 0x7fcaca417010>, <CLQGA.Individual object at 0x7fca6f590990>, <CLQGA.Individual object at 0x7fcaecc87210>, <CLQGA.Individual object at 0x7fca6f593c10>, <CLQGA.Individual object at 0x7fca6f5c8310>, <CLQGA.Individual object at 0x7fca751bec10>, <CLQGA.Individual object at 0x7fca6fa13ed0>, <CLQGA.Individual object at 0x7fca73e07c50>]\n",
      "time.struct_time(tm_year=1970, tm_mon=1, tm_mday=1, tm_hour=0, tm_min=1, tm_sec=19, tm_wday=3, tm_yday=1, tm_isdst=0)\n",
      "[]\n",
      "[]\n"
     ]
    }
   ],
   "source": [
    "# [population,time.gmtime((time.perf_counter() - start_total_run_time)),data_average_fitness, data_average_crowd_score]\n",
    "print(output)\n"
   ]
  }
 ],
 "metadata": {
  "kernelspec": {
   "display_name": "Python 3",
   "language": "python",
   "name": "python3"
  },
  "language_info": {
   "codemirror_mode": {
    "name": "ipython",
    "version": 3
   },
   "file_extension": ".py",
   "mimetype": "text/x-python",
   "name": "python",
   "nbconvert_exporter": "python",
   "pygments_lexer": "ipython3",
   "version": "3.11.2"
  },
  "orig_nbformat": 4,
  "vscode": {
   "interpreter": {
    "hash": "ba398da8724e1d784c921a45a9f318102d2914d817e5f1854f0701fae7c3e0b5"
   }
  }
 },
 "nbformat": 4,
 "nbformat_minor": 2
}
