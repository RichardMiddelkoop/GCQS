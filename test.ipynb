{
 "cells": [
  {
   "cell_type": "code",
   "execution_count": 83,
   "metadata": {},
   "outputs": [
    {
     "name": "stdout",
     "output_type": "stream",
     "text": [
      "       ┌───┐┌───────┐\n",
      "q68_0: ┤ H ├┤ Rx(1) ├\n",
      "       ├───┤├───────┤\n",
      "q68_1: ┤ H ├┤ Rx(2) ├\n",
      "       ├───┤└───────┘\n",
      "q68_2: ┤ H ├─────────\n",
      "       ├───┤         \n",
      "q68_3: ┤ H ├─────────\n",
      "       └───┘         \n",
      "ParameterView([Parameter(1), Parameter(2)])\n",
      "       ┌───┐┌───────────────────────┐\n",
      "q68_0: ┤ H ├┤ Rx(0.349398938987163) ├\n",
      "       ├───┤├───────────────────────┤\n",
      "q68_1: ┤ H ├┤ Rx(0.349398938987163) ├\n",
      "       ├───┤└───────────────────────┘\n",
      "q68_2: ┤ H ├─────────────────────────\n",
      "       ├───┤                         \n",
      "q68_3: ┤ H ├─────────────────────────\n",
      "       └───┘                         \n"
     ]
    }
   ],
   "source": [
    "from qiskit.circuit import QuantumCircuit, Parameter\n",
    "import numpy as np\n",
    "phi = Parameter(\"1\")\n",
    "phi2 = Parameter(\"2\")\n",
    "qr = QuantumRegister(nr_of_qubits)\n",
    "circuit = QuantumCircuit(qr)\n",
    "circuit.h([0])\n",
    "circuit.h([1])\n",
    "circuit.h([2])\n",
    "circuit.h([3])\n",
    "circuit.rx(phi,qubit=[0])\n",
    "circuit.rx(phi2,qubit=[1])\n",
    "print(circuit)\n",
    "print(circuit.parameters)\n",
    "value = np.random.random()\n",
    "parameters = [value for _ in range(2)]\n",
    "print(circuit.bind_parameters(parameters))"
   ]
  },
  {
   "cell_type": "code",
   "execution_count": 23,
   "metadata": {},
   "outputs": [
    {
     "name": "stdout",
     "output_type": "stream",
     "text": [
      "[0.14285714285714285]\n",
      "[0.14285714285714285, 0.0]\n",
      "0.07142857142857142\n"
     ]
    }
   ],
   "source": [
    "individual = \"0000000\"\n",
    "elitism_population = [\"1110111\",\"1111111\"]\n",
    "match_percentage = []\n",
    "def match(subject_1,subject_2):\n",
    "    return sum([int(subject_1[i] == subject_2[i]) for i in range(0,len(subject_1))])/len(subject_1)\n",
    "for elite in elitism_population:\n",
    "    match_percentage.append(match(individual,elite))\n",
    "    print(match_percentage)\n",
    "print(sum(match_percentage)/len(match_percentage))"
   ]
  },
  {
   "cell_type": "code",
   "execution_count": 7,
   "metadata": {},
   "outputs": [],
   "source": [
    "from Experiments import saveLoad\n",
    "from CLQGA import Individual\n",
    "output = saveLoad(\"load\",\"experiment_28_april_gateScaling_test_1\", None)\n",
    "experiment_population = output[0]\n",
    "experiment_duration = output[1]\n",
    "experiment_average_fitness_50_increment = output[2]\n",
    "experiment_average_crowd_score_50_increment = output[3]\n",
    "experiment_average_error_rate_50_increment = output[4]\n",
    "# for the individual the structure is [fitness, error, chromosome, current generation, unconfigured circuit, configured circuit]\n",
    "experiment_best_individual = output[5]\n",
    "# for the family the structure is [average elitism fitness, average elitism error, family set of chromosomes]\n",
    "experiment_best_family = output[6]"
   ]
  },
  {
   "cell_type": "code",
   "execution_count": 18,
   "metadata": {},
   "outputs": [
    {
     "name": "stdout",
     "output_type": "stream",
     "text": [
      "[6097.267986055671, 0.013478467377403436, '000001010010010101010110100111110011111101010001101110101000010111111111010100101100101011111111111100000110010011010111010101000100111000011010000001000110101100011100011000010000', 1, (<qiskit.circuit.quantumcircuit.QuantumCircuit object at 0x7fcca8cd2c50>, <qiskit.providers.fake_provider.backends.toronto.fake_toronto.FakeTorontoV2 object at 0x7fcc2b2e7510>)]\n",
      "global phase: 1/2 + 2/2 + 3/2 + 4/2 + 9π/8\n",
      "   ┌─────────┐┌─────────┐   ┌────┐  ┌───────────┐   ┌────┐  ┌──────────┐»\n",
      "0: ┤ Rz(π/4) ├┤ Rz(π/2) ├───┤ √X ├──┤ Rz(0 + π) ├───┤ √X ├──┤ Rz(5π/2) ├»\n",
      "   ├─────────┤├─────────┤   ├────┤  └┬─────────┬┘┌──┴────┴─┐└──┬───┬───┘»\n",
      "1: ┤ Rz(π/2) ├┤ Rz(π/2) ├───┤ √X ├───┤ Rz(π/2) ├─┤ Rz(π/4) ├───┤ X ├────»\n",
      "   └──┬───┬──┘└─────────┘   └────┘   └─────────┘ └─────────┘   └─┬─┘    »\n",
      "2: ───┤ X ├──────────────────────────────────────────────────────■──────»\n",
      "   ┌──┴───┴──┐   ┌────┐  ┌─────────┐                                    »\n",
      "3: ┤ Rz(π/2) ├───┤ √X ├──┤ Rz(π/2) ├────────────────────────────────────»\n",
      "   └─────────┘   └────┘  └─────────┘                                    »\n",
      "«   ┌──────────┐                                                            »\n",
      "«0: ┤ Rz(-π/4) ├────────────────────────────────────────────────────■───────»\n",
      "«   ├──────────┤┌─────────┐   ┌────┐   ┌─────────┐┌──────────┐    ┌─┴─┐     »\n",
      "«1: ┤ Rz(-π/4) ├┤ Rz(π/2) ├───┤ √X ├───┤ Rz(π/2) ├┤ Rz(-π/2) ├────┤ X ├─────»\n",
      "«   ├─────────┬┘└┬───────┬┘┌──┴────┴──┐└──┬────┬─┘├──────────┤┌───┴───┴────┐»\n",
      "«2: ┤ Rz(π/4) ├──┤ Rz(2) ├─┤ Rz(-π/2) ├───┤ √X ├──┤ Rz(-π/2) ├┤ Rz(1 + 3π) ├»\n",
      "«   └─────────┘  └───────┘ └──────────┘   └────┘  └──────────┘└────────────┘»\n",
      "«3: ────────────────────────────────────────────────────────────────────────»\n",
      "«                                                                           »\n",
      "«                          \n",
      "«0: ───────────────────────\n",
      "«                          \n",
      "«1: ───────────────────────\n",
      "«   ┌───────┐┌───┐┌───────┐\n",
      "«2: ┤ Rz(3) ├┤ X ├┤ Rz(4) ├\n",
      "«   └───────┘└───┘└───────┘\n",
      "«3: ───────────────────────\n",
      "«                          \n"
     ]
    },
    {
     "ename": "AttributeError",
     "evalue": "'FakeTorontoV2' object has no attribute 'global_phase'",
     "output_type": "error",
     "traceback": [
      "\u001b[0;31m---------------------------------------------------------------------------\u001b[0m",
      "\u001b[0;31mAttributeError\u001b[0m                            Traceback (most recent call last)",
      "\u001b[1;32m/home/middelkoop/Desktop/CodeThesis/GCQS/test.ipynb Cell 4\u001b[0m in \u001b[0;36m2\n\u001b[1;32m     <a href='vscode-notebook-cell:/home/middelkoop/Desktop/CodeThesis/GCQS/test.ipynb#W3sZmlsZQ%3D%3D?line=19'>20</a>\u001b[0m \u001b[39mprint\u001b[39m(experiment_best_individual[i])\n\u001b[1;32m     <a href='vscode-notebook-cell:/home/middelkoop/Desktop/CodeThesis/GCQS/test.ipynb#W3sZmlsZQ%3D%3D?line=20'>21</a>\u001b[0m \u001b[39mfor\u001b[39;00m best_circuit \u001b[39min\u001b[39;00m experiment_best_individual[i][\u001b[39m4\u001b[39m]:\n\u001b[0;32m---> <a href='vscode-notebook-cell:/home/middelkoop/Desktop/CodeThesis/GCQS/test.ipynb#W3sZmlsZQ%3D%3D?line=21'>22</a>\u001b[0m     \u001b[39mprint\u001b[39m(remove_idle_qwires(best_circuit))\n",
      "\u001b[1;32m/home/middelkoop/Desktop/CodeThesis/GCQS/test.ipynb Cell 4\u001b[0m in \u001b[0;36m7\n\u001b[1;32m      <a href='vscode-notebook-cell:/home/middelkoop/Desktop/CodeThesis/GCQS/test.ipynb#W3sZmlsZQ%3D%3D?line=5'>6</a>\u001b[0m \u001b[39mdef\u001b[39;00m \u001b[39mremove_idle_qwires\u001b[39m(circ):\n\u001b[0;32m----> <a href='vscode-notebook-cell:/home/middelkoop/Desktop/CodeThesis/GCQS/test.ipynb#W3sZmlsZQ%3D%3D?line=6'>7</a>\u001b[0m     dag \u001b[39m=\u001b[39m circuit_to_dag(circ)\n\u001b[1;32m      <a href='vscode-notebook-cell:/home/middelkoop/Desktop/CodeThesis/GCQS/test.ipynb#W3sZmlsZQ%3D%3D?line=8'>9</a>\u001b[0m     idle_wires \u001b[39m=\u001b[39m \u001b[39mlist\u001b[39m(dag\u001b[39m.\u001b[39midle_wires())\n\u001b[1;32m     <a href='vscode-notebook-cell:/home/middelkoop/Desktop/CodeThesis/GCQS/test.ipynb#W3sZmlsZQ%3D%3D?line=9'>10</a>\u001b[0m     \u001b[39mfor\u001b[39;00m w \u001b[39min\u001b[39;00m idle_wires:\n",
      "File \u001b[0;32m~/.local/lib/python3.11/site-packages/qiskit/converters/circuit_to_dag.py:46\u001b[0m, in \u001b[0;36mcircuit_to_dag\u001b[0;34m(circuit)\u001b[0m\n\u001b[1;32m     44\u001b[0m dagcircuit \u001b[39m=\u001b[39m DAGCircuit()\n\u001b[1;32m     45\u001b[0m dagcircuit\u001b[39m.\u001b[39mname \u001b[39m=\u001b[39m circuit\u001b[39m.\u001b[39mname\n\u001b[0;32m---> 46\u001b[0m dagcircuit\u001b[39m.\u001b[39mglobal_phase \u001b[39m=\u001b[39m circuit\u001b[39m.\u001b[39;49mglobal_phase\n\u001b[1;32m     47\u001b[0m dagcircuit\u001b[39m.\u001b[39mcalibrations \u001b[39m=\u001b[39m circuit\u001b[39m.\u001b[39mcalibrations\n\u001b[1;32m     48\u001b[0m dagcircuit\u001b[39m.\u001b[39mmetadata \u001b[39m=\u001b[39m circuit\u001b[39m.\u001b[39mmetadata\n",
      "\u001b[0;31mAttributeError\u001b[0m: 'FakeTorontoV2' object has no attribute 'global_phase'"
     ]
    }
   ],
   "source": [
    "# [final_population,total runtime, data_average_fitness each 50 generations, data_average_crowd_score each 50 generations, data_best_individual, data_best_family]\n",
    "from HelperCLQGA import genome_to_circuit\n",
    "from qiskit.converters import circuit_to_dag, dag_to_circuit\n",
    "from collections import OrderedDict\n",
    "\n",
    "def remove_idle_qwires(circ):\n",
    "    dag = circuit_to_dag(circ)\n",
    "\n",
    "    idle_wires = list(dag.idle_wires())\n",
    "    for w in idle_wires:\n",
    "        dag._remove_idle_wire(w)\n",
    "        dag.qubits.remove(w)\n",
    "\n",
    "    dag.qregs = OrderedDict()\n",
    "\n",
    "    return dag_to_circuit(dag)\n",
    "\n",
    "\n",
    "for i in range(0,len(experiment_best_individual)):\n",
    "    print(experiment_best_individual[i])\n",
    "    for best_circuit in experiment_best_individual[i][4]:\n",
    "        print(remove_idle_qwires(best_circuit))"
   ]
  },
  {
   "cell_type": "code",
   "execution_count": 2,
   "metadata": {},
   "outputs": [
    {
     "name": "stdout",
     "output_type": "stream",
     "text": [
      "7.5\n"
     ]
    }
   ],
   "source": [
    "print(sum([i/2 for i in [0,1,2,3,4,5]]))"
   ]
  }
 ],
 "metadata": {
  "kernelspec": {
   "display_name": "Python 3",
   "language": "python",
   "name": "python3"
  },
  "language_info": {
   "codemirror_mode": {
    "name": "ipython",
    "version": 3
   },
   "file_extension": ".py",
   "mimetype": "text/x-python",
   "name": "python",
   "nbconvert_exporter": "python",
   "pygments_lexer": "ipython3",
   "version": "3.11.3"
  },
  "orig_nbformat": 4,
  "vscode": {
   "interpreter": {
    "hash": "ba398da8724e1d784c921a45a9f318102d2914d817e5f1854f0701fae7c3e0b5"
   }
  }
 },
 "nbformat": 4,
 "nbformat_minor": 2
}
