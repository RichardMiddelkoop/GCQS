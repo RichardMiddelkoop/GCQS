{
 "cells": [
  {
   "attachments": {},
   "cell_type": "markdown",
   "metadata": {},
   "source": [
    "**Manual construction of a quantum circuit**\n",
    "In this notebook we will show how we will genetically generate a quantum circuit. But before we do this the cell below shows how we can manually create a circuit, feel free to toy around with generating different structures of PQC's. The link below links to the library of qiskit which contains a comprehensive list of gates and operations. \n",
    "https://qiskit.org/documentation/apidoc/circuit_library.html"
   ]
  },
  {
   "cell_type": "code",
   "execution_count": 83,
   "metadata": {},
   "outputs": [
    {
     "name": "stdout",
     "output_type": "stream",
     "text": [
      "       ┌───┐┌───────┐\n",
      "q68_0: ┤ H ├┤ Rx(1) ├\n",
      "       ├───┤├───────┤\n",
      "q68_1: ┤ H ├┤ Rx(2) ├\n",
      "       ├───┤└───────┘\n",
      "q68_2: ┤ H ├─────────\n",
      "       ├───┤         \n",
      "q68_3: ┤ H ├─────────\n",
      "       └───┘         \n",
      "ParameterView([Parameter(1), Parameter(2)])\n",
      "       ┌───┐┌───────────────────────┐\n",
      "q68_0: ┤ H ├┤ Rx(0.349398938987163) ├\n",
      "       ├───┤├───────────────────────┤\n",
      "q68_1: ┤ H ├┤ Rx(0.349398938987163) ├\n",
      "       ├───┤└───────────────────────┘\n",
      "q68_2: ┤ H ├─────────────────────────\n",
      "       ├───┤                         \n",
      "q68_3: ┤ H ├─────────────────────────\n",
      "       └───┘                         \n"
     ]
    }
   ],
   "source": [
    "from qiskit.circuit import QuantumCircuit, Parameter, QuantumRegister\n",
    "import numpy as np\n",
    "import math\n",
    "import pandas as pd\n",
    "import matplotlib.pyplot as plt\n",
    "\n",
    "nr_of_qubits = 4\n",
    "phi = Parameter(\"1\")\n",
    "phi2 = Parameter(\"2\")\n",
    "qr = QuantumRegister(nr_of_qubits)\n",
    "circuit = QuantumCircuit(qr)\n",
    "circuit.h([0])\n",
    "circuit.h([1])\n",
    "circuit.h([2])\n",
    "circuit.h([3])\n",
    "circuit.rx(phi,qubit=[0])\n",
    "circuit.rx(phi2,qubit=[1])\n",
    "print(circuit)\n",
    "print(circuit.parameters)\n",
    "value = np.random.random()\n",
    "parameters = [value for _ in range(2*math.pi)]\n",
    "print(circuit.bind_parameters(parameters))"
   ]
  },
  {
   "attachments": {},
   "cell_type": "markdown",
   "metadata": {},
   "source": [
    "The cell below shows how to create an experiment with different parameters. The parameters that aren't specified are selected from the `default_parameters.txt` file."
   ]
  },
  {
   "cell_type": "code",
   "execution_count": 2,
   "metadata": {},
   "outputs": [
    {
     "name": "stdout",
     "output_type": "stream",
     "text": [
      "generation 1: 10934.23259401918\n",
      "Expected runtime: 00:15:39\n",
      "generation 2: 11341.035223246214\n",
      "generation 3: 16425.108677889482\n",
      "generation 4: 15476.385773530536\n",
      "generation 5: 15056.240188366619\n",
      "max gen reached!!\n"
     ]
    },
    {
     "ename": "KeyboardInterrupt",
     "evalue": "",
     "output_type": "error",
     "traceback": [
      "\u001b[0;31m---------------------------------------------------------------------------\u001b[0m",
      "\u001b[0;31mKeyboardInterrupt\u001b[0m                         Traceback (most recent call last)",
      "\u001b[1;32m/home/middelkoop/Desktop/CodeThesis/GCQS/test.ipynb Cell 4\u001b[0m in \u001b[0;36m1\n\u001b[1;32m     <a href='vscode-notebook-cell:/home/middelkoop/Desktop/CodeThesis/GCQS/test.ipynb#X35sZmlsZQ%3D%3D?line=9'>10</a>\u001b[0m exp_pickle_name \u001b[39m=\u001b[39m \u001b[39mstr\u001b[39m(pickle_name) \u001b[39m+\u001b[39m \u001b[39m\"\u001b[39m\u001b[39m_\u001b[39m\u001b[39m\"\u001b[39m \u001b[39m+\u001b[39m \u001b[39mstr\u001b[39m(i) \n\u001b[1;32m     <a href='vscode-notebook-cell:/home/middelkoop/Desktop/CodeThesis/GCQS/test.ipynb#X35sZmlsZQ%3D%3D?line=10'>11</a>\u001b[0m exp_input \u001b[39m=\u001b[39m \u001b[39mstr\u001b[39m(\u001b[39minput\u001b[39m) \u001b[39m+\u001b[39m \u001b[39mstr\u001b[39m(parameters[i]) \u001b[39m+\u001b[39m \u001b[39m\"\u001b[39m\u001b[39m --write \u001b[39m\u001b[39m\"\u001b[39m \u001b[39m+\u001b[39m \u001b[39mstr\u001b[39m(exp_pickle_name)\n\u001b[0;32m---> <a href='vscode-notebook-cell:/home/middelkoop/Desktop/CodeThesis/GCQS/test.ipynb#X35sZmlsZQ%3D%3D?line=11'>12</a>\u001b[0m out \u001b[39m=\u001b[39m subprocess\u001b[39m.\u001b[39;49mcall(exp_input, shell\u001b[39m=\u001b[39;49m\u001b[39mTrue\u001b[39;49;00m)\n",
      "File \u001b[0;32m/usr/lib64/python3.11/subprocess.py:391\u001b[0m, in \u001b[0;36mcall\u001b[0;34m(timeout, *popenargs, **kwargs)\u001b[0m\n\u001b[1;32m    389\u001b[0m \u001b[39mwith\u001b[39;00m Popen(\u001b[39m*\u001b[39mpopenargs, \u001b[39m*\u001b[39m\u001b[39m*\u001b[39mkwargs) \u001b[39mas\u001b[39;00m p:\n\u001b[1;32m    390\u001b[0m     \u001b[39mtry\u001b[39;00m:\n\u001b[0;32m--> 391\u001b[0m         \u001b[39mreturn\u001b[39;00m p\u001b[39m.\u001b[39;49mwait(timeout\u001b[39m=\u001b[39;49mtimeout)\n\u001b[1;32m    392\u001b[0m     \u001b[39mexcept\u001b[39;00m:  \u001b[39m# Including KeyboardInterrupt, wait handled that.\u001b[39;00m\n\u001b[1;32m    393\u001b[0m         p\u001b[39m.\u001b[39mkill()\n",
      "File \u001b[0;32m/usr/lib64/python3.11/subprocess.py:1262\u001b[0m, in \u001b[0;36mPopen.wait\u001b[0;34m(self, timeout)\u001b[0m\n\u001b[1;32m   1260\u001b[0m     endtime \u001b[39m=\u001b[39m _time() \u001b[39m+\u001b[39m timeout\n\u001b[1;32m   1261\u001b[0m \u001b[39mtry\u001b[39;00m:\n\u001b[0;32m-> 1262\u001b[0m     \u001b[39mreturn\u001b[39;00m \u001b[39mself\u001b[39;49m\u001b[39m.\u001b[39;49m_wait(timeout\u001b[39m=\u001b[39;49mtimeout)\n\u001b[1;32m   1263\u001b[0m \u001b[39mexcept\u001b[39;00m \u001b[39mKeyboardInterrupt\u001b[39;00m:\n\u001b[1;32m   1264\u001b[0m     \u001b[39m# https://bugs.python.org/issue25942\u001b[39;00m\n\u001b[1;32m   1265\u001b[0m     \u001b[39m# The first keyboard interrupt waits briefly for the child to\u001b[39;00m\n\u001b[1;32m   1266\u001b[0m     \u001b[39m# exit under the common assumption that it also received the ^C\u001b[39;00m\n\u001b[1;32m   1267\u001b[0m     \u001b[39m# generated SIGINT and will exit rapidly.\u001b[39;00m\n\u001b[1;32m   1268\u001b[0m     \u001b[39mif\u001b[39;00m timeout \u001b[39mis\u001b[39;00m \u001b[39mnot\u001b[39;00m \u001b[39mNone\u001b[39;00m:\n",
      "File \u001b[0;32m/usr/lib64/python3.11/subprocess.py:2013\u001b[0m, in \u001b[0;36mPopen._wait\u001b[0;34m(self, timeout)\u001b[0m\n\u001b[1;32m   2011\u001b[0m \u001b[39mif\u001b[39;00m \u001b[39mself\u001b[39m\u001b[39m.\u001b[39mreturncode \u001b[39mis\u001b[39;00m \u001b[39mnot\u001b[39;00m \u001b[39mNone\u001b[39;00m:\n\u001b[1;32m   2012\u001b[0m     \u001b[39mbreak\u001b[39;00m  \u001b[39m# Another thread waited.\u001b[39;00m\n\u001b[0;32m-> 2013\u001b[0m (pid, sts) \u001b[39m=\u001b[39m \u001b[39mself\u001b[39;49m\u001b[39m.\u001b[39;49m_try_wait(\u001b[39m0\u001b[39;49m)\n\u001b[1;32m   2014\u001b[0m \u001b[39m# Check the pid and loop as waitpid has been known to\u001b[39;00m\n\u001b[1;32m   2015\u001b[0m \u001b[39m# return 0 even without WNOHANG in odd situations.\u001b[39;00m\n\u001b[1;32m   2016\u001b[0m \u001b[39m# http://bugs.python.org/issue14396.\u001b[39;00m\n\u001b[1;32m   2017\u001b[0m \u001b[39mif\u001b[39;00m pid \u001b[39m==\u001b[39m \u001b[39mself\u001b[39m\u001b[39m.\u001b[39mpid:\n",
      "File \u001b[0;32m/usr/lib64/python3.11/subprocess.py:1971\u001b[0m, in \u001b[0;36mPopen._try_wait\u001b[0;34m(self, wait_flags)\u001b[0m\n\u001b[1;32m   1969\u001b[0m \u001b[39m\"\"\"All callers to this function MUST hold self._waitpid_lock.\"\"\"\u001b[39;00m\n\u001b[1;32m   1970\u001b[0m \u001b[39mtry\u001b[39;00m:\n\u001b[0;32m-> 1971\u001b[0m     (pid, sts) \u001b[39m=\u001b[39m os\u001b[39m.\u001b[39mwaitpid(\u001b[39mself\u001b[39m\u001b[39m.\u001b[39mpid, wait_flags)\n\u001b[1;32m   1972\u001b[0m \u001b[39mexcept\u001b[39;00m \u001b[39mChildProcessError\u001b[39;00m:\n\u001b[1;32m   1973\u001b[0m     \u001b[39m# This happens if SIGCLD is set to be ignored or waiting\u001b[39;00m\n\u001b[1;32m   1974\u001b[0m     \u001b[39m# for child processes has otherwise been disabled for our\u001b[39;00m\n\u001b[1;32m   1975\u001b[0m     \u001b[39m# process.  This child is dead, we can't get the status.\u001b[39;00m\n\u001b[1;32m   1976\u001b[0m     pid \u001b[39m=\u001b[39m \u001b[39mself\u001b[39m\u001b[39m.\u001b[39mpid\n",
      "\u001b[0;31mKeyboardInterrupt\u001b[0m: "
     ]
    }
   ],
   "source": [
    "import pickle\n",
    "import subprocess\n",
    "\n",
    "# Experiment    \n",
    "parameters = [\"NR_OF_QUBITS=4,NR_OF_ISING_QUBITS=4,NR_OF_GATES=20\",\"NR_OF_QUBITS=6,NR_OF_ISING_QUBITS=6,NR_OF_GATES=30\",\"NR_OF_QUBITS=8,NR_OF_ISING_QUBITS=8,NR_OF_GATES=40\",\"NR_OF_QUBITS=10,NR_OF_ISING_QUBITS=10,NR_OF_GATES=50\"]\n",
    "input = \"python3 ./CLQGA.py --arguments \"\n",
    "pickle_name = \"experiment_scaling_qubits\"\n",
    "####### Experiments\n",
    "for i in range(0,len(parameters)):        \n",
    "    exp_pickle_name = str(pickle_name) + \"_\" + str(i) \n",
    "    exp_input = str(input) + str(parameters[i]) + \" --write \" + str(exp_pickle_name)\n",
    "    out = subprocess.call(exp_input, shell=True)"
   ]
  },
  {
   "attachments": {},
   "cell_type": "markdown",
   "metadata": {},
   "source": [
    "The cell below unpacks the information gathered in during a run of the CLQGA. If you change the information that is being tracked this cell has to be changed."
   ]
  },
  {
   "cell_type": "code",
   "execution_count": 103,
   "metadata": {},
   "outputs": [
    {
     "name": "stdout",
     "output_type": "stream",
     "text": [
      "50\n"
     ]
    }
   ],
   "source": [
    "from Experiments import saveLoad\n",
    "from CLQGA import Individual\n",
    "output = saveLoad(\"load\",\"experiment_scaling_qubits_0\", None)\n",
    "# print(len(output))\n",
    "experiment_population = output[0]\n",
    "experiment_duration = output[1]\n",
    "experiment_average_fitness_50_increment = output[2]\n",
    "experiment_average_crowd_score_50_increment = output[3]\n",
    "experiment_average_error_rate_50_increment = output[4]\n",
    "# # for the individual the structure is [fitness, error, chromosome, current generation, unconfigured circuit, configured circuit]\n",
    "experiment_best_individual = output[5]\n",
    "# # # for the family the structure is [average elitism fitness, average elitism error, current generation, family set of chromosomes]\n",
    "experiment_best_family = output[6]\n",
    "# # # for the evolution the structure is [[best individual number of operation, best individual number of controlled gates], [family average number of operations, family average number of controlled operations]]\n",
    "experiment_evolution = output[7]\n",
    "# # # # ising instance\n",
    "ising_instance = output[8]\n",
    "print(len(experiment_population[0].chromosome)//9)"
   ]
  },
  {
   "attachments": {},
   "cell_type": "markdown",
   "metadata": {},
   "source": [
    "Helper function to find the lowest value of the 1d ising problem"
   ]
  },
  {
   "cell_type": "code",
   "execution_count": 105,
   "metadata": {},
   "outputs": [
    {
     "name": "stdout",
     "output_type": "stream",
     "text": [
      "[1, 1, -1, -1, 1, 1, -1, -1, 1, -1] [-1, -1, 1, 1, -1, 1, 1, -1, 1]\n",
      "-15\n"
     ]
    }
   ],
   "source": [
    "from HelperCLQGA import compute_expected_energy, ising_1d_instance\n",
    "def bruteforceLowestValue(h,j):\n",
    "    def bool_to_state(integer):\n",
    "    # Convert the 1/0 of a bit to +1/-1\n",
    "        return 2*int(integer)-1\n",
    "\n",
    "    r1=list([f'{i:0{len(h)}b}' for i in range(2**len(h))])\n",
    "    best_energy = math.inf\n",
    "\n",
    "    for k in range(0,len(r1)):\n",
    "        current_energy = 0\n",
    "        # r2[k] is the number of shots that have this result\n",
    "        # r1[k] is the result as qubits (like 0001)\n",
    "        # Energy of h\n",
    "        current_energy += sum([bool_to_state(r1[k][bit_value])*h[bit_value] for bit_value in range(0,len(r1[k]))])\n",
    "        # Energy of j\n",
    "        current_energy += sum([bool_to_state(r1[k][bit_value])*bool_to_state(r1[k][bit_value+1])*j[bit_value] for bit_value in range(0,len(j))])\n",
    "        if current_energy < best_energy:\n",
    "            best_energy = current_energy\n",
    "\n",
    "    return best_energy\n",
    "\n",
    "# observable_h, observable_j = ising_1d_instance(4, None)\n",
    "observable_h = ising_instance[0]\n",
    "observable_j = ising_instance[1]\n",
    "print(observable_h, observable_j)\n",
    "exact_classical_solution = bruteforceLowestValue(observable_h,observable_j)\n",
    "print(exact_classical_solution)"
   ]
  },
  {
   "attachments": {},
   "cell_type": "markdown",
   "metadata": {},
   "source": [
    "The cells below are used to generate graphs that plot the gradient vs delta energy"
   ]
  },
  {
   "cell_type": "code",
   "execution_count": 43,
   "metadata": {},
   "outputs": [
    {
     "name": "stdout",
     "output_type": "stream",
     "text": [
      "[[0, 12640.470703836027, 6.0120000000000005], [2, 14602.076034326823, 6.006], [7, 18713.137290434872, 4.016], [10, 19691.793368039336, 6.019], [20, 22969.560562669427, 4.019500000000001], [48, 23442.071304861205, 4.0169999999999995], [73, 23868.291648556107, 4.0], [74, 26910.363053744895, 4.0], [76, 28785.848841897838, 4.0120000000000005], [113, 30755.439973084598, 6.0435], [128, 38244.988393076346, 8.216000000000001], [213, 39192.58551432365, 4.003], [247, 39506.759130797844, 4.776], [251, 39597.08448573585, 4.0135000000000005], [260, 39794.34282046684, 4.009], [266, 42525.463439900304, 5.025499999999999], [280, 44616.14158169525, 4.0280000000000005], [281, 58973.09417099327, 4.132], [335, 63612.31458376175, 4.015000000000001]]\n",
      "[[0, 6080.843124421144, 7.281049999999999], [2, 7033.042926302709, 7.8134], [3, 7773.914340431789, 7.8622], [7, 10246.515436416295, 7.280799999999999], [9, 10340.064058122567, 7.0521], [11, 10512.155190214678, 6.574200000000001], [15, 11065.362771773263, 6.7196], [20, 12757.21810690005, 5.038450000000001], [47, 13458.975845284314, 6.40945], [57, 14759.865177635755, 6.61375], [73, 15079.083092920362, 6.266500000000001], [96, 15350.367643066882, 5.774699999999999], [97, 15439.746174103715, 6.09675], [108, 16137.326218303322, 6.823499999999999], [111, 16510.201773700093, 7.075000000000001], [113, 16754.04750871823, 8.006400000000001], [117, 17761.423526065722, 7.321350000000001], [128, 20101.5658888666, 7.094499999999999], [147, 20175.495963551533, 5.88325], [149, 20191.9958741644, 6.2124500000000005], [150, 20457.077404506148, 6.65705], [157, 21028.828257394944, 5.8665], [162, 21626.25013588552, 6.167750000000002], [181, 22275.66395756015, 6.0745999999999984], [188, 23489.30378299513, 6.1423999999999985], [232, 24752.877227523928, 4.489799999999999], [235, 25869.481248465523, 5.15555], [246, 26035.333435736175, 4.748199999999999], [250, 26040.210008693488, 4.62025], [253, 27230.175980837597, 4.311800000000002], [281, 28534.593220832678, 5.162049999999999], [289, 31119.105560647662, 5.257350000000001], [303, 31400.98530201376, 5.1572499999999994], [315, 31531.454452854912, 4.528450000000001], [396, 31592.318041807925, 4.74765], [397, 31970.5518146022, 4.966449999999998], [415, 32251.802928118017, 5.1797]]\n"
     ]
    }
   ],
   "source": [
    "from HelperCLQGA import energy_from_circuit, genome_to_circuit\n",
    "from qiskit_aer import AerSimulator\n",
    "from scipy.optimize import minimize\n",
    "\n",
    "backend_sim = AerSimulator()\n",
    "upper_bound = 0.001\n",
    "lower_bound = 0\n",
    "\n",
    "# Data for the barcharts\n",
    "## Data for the best individual\n",
    "experiment_best_individual_graph_data = []\n",
    "experiment_best_individual_graph_data_gradient = []\n",
    "for individual in experiment_best_individual:\n",
    "    ## if the object you are trying to evaluate has chromosomes use the next line\n",
    "    # ind_ansatz,num_parameters = genome_to_circuit(individal.chromosome, 4, 20)\n",
    "    ## if the object has a unconfigured circuit use the next lines!\n",
    "    ind_ansatz = individual[4]\n",
    "    num_parameters = individual[4].num_parameters\n",
    "    parameters0 = [np.random.random()* (upper_bound-lower_bound)+lower_bound for _ in range(num_parameters)]\n",
    "    def expectation_function(parameters):\n",
    "        return energy_from_circuit(ind_ansatz.bind_parameters(parameters), ind_ansatz.num_qubits, observable_h, observable_j, 4000, backend_sim)\n",
    "    vqe_result = minimize(expectation_function,parameters0, method=\"COBYLA\", tol=1e-5, options={\"maxiter\":100**4})\n",
    "    # For Gradient plotting\n",
    "    experiment_best_individual_graph_data_gradient.append([individual[3],individual[0]/(1/(1+individual[1])*-vqe_result.fun),vqe_result.fun-exact_classical_solution])\n",
    "    # For Fitness plotting\n",
    "    experiment_best_individual_graph_data.append([individual[3],individual[0],vqe_result.fun-exact_classical_solution])\n",
    "\n",
    "experiment_best_family_graph_data = []\n",
    "experiment_best_family_graph_data_gradient = []\n",
    "\n",
    "for family in experiment_best_family:\n",
    "    delta_e = []\n",
    "    for i in family[3]:\n",
    "        ind_ansatz,num_parameters = genome_to_circuit(i, 10, len(i)//9)\n",
    "        parameters0 = [np.random.random()* (upper_bound-lower_bound)+lower_bound for _ in range(num_parameters)]\n",
    "        def expectation_function(parameters):\n",
    "            return energy_from_circuit(ind_ansatz.bind_parameters(parameters), ind_ansatz.num_qubits, observable_h, observable_j, 4000, backend_sim)\n",
    "        vqe_result = minimize(expectation_function,parameters0, method=\"COBYLA\", tol=1e-5, options={\"maxiter\":100**4})\n",
    "        delta_e.append(vqe_result.fun)\n",
    "    experiment_best_family_graph_data.append([family[2],family[0],(sum(delta_e)/len(family[3])-exact_classical_solution)])\n",
    "    experiment_best_family_graph_data_gradient.append([family[2],family[0]/((1/1.2)*-(sum(delta_e)/len(family[3]))),(sum(delta_e)/len(family[3])-exact_classical_solution)])"
   ]
  },
  {
   "cell_type": "code",
   "execution_count": 69,
   "metadata": {},
   "outputs": [
    {
     "data": {
      "image/png": "[encoded data removed]",
      "text/plain": [
       "<Figure size 720x360 with 2 Axes>"
      ]
     },
     "metadata": {
      "needs_background": "light"
     },
     "output_type": "display_data"
    }
   ],
   "source": [
    "test = experiment_best_individual_graph_data_gradient\n",
    "\n",
    "df = pd.DataFrame(test, columns=[\"Generations\", \"Gradient\", \"Delta energy\"])\n",
    "fig = plt.figure(figsize=(10,5))\n",
    "ax = fig.add_subplot(111) # Create matplotlib axes\n",
    "ax2 = ax.twinx()\n",
    "width = 0.4\n",
    "df.iloc[:,2].plot(kind='bar', color='blue', ax=ax2, width=width, position=0)\n",
    "df.iloc[:,1].plot(kind='bar', color='orange', ax=ax, width=width, position=1)\n",
    "\n",
    "ax2.set_ylabel('Delta energy')\n",
    "ax.set_ylabel('Gradient')\n",
    "ax2.legend(loc='upper right', bbox_to_anchor=(1.23, 1))\n",
    "ax.legend(loc='upper right', bbox_to_anchor=(1.192, 0.91))\n",
    "ax.set_title(\"Best individuals found for 10 qubits\")\n",
    "ax.set_xticklabels(df.iloc[:,0], rotation=90)\n",
    "# fig.subplots_adjust(bottom=0.3)\n",
    "ax.set_xlabel(\"Generation\")\n",
    "fig.savefig(\"energy10qubitbestindividualgradient.png\",dpi=300, bbox_inches=\"tight\", facecolor='white')\n",
    "plt.show()"
   ]
  },
  {
   "attachments": {},
   "cell_type": "markdown",
   "metadata": {},
   "source": [
    "The cells below are used to generate graphs that plot the fitness vs the number of optimisation steps"
   ]
  },
  {
   "cell_type": "code",
   "execution_count": 106,
   "metadata": {},
   "outputs": [
    {
     "name": "stdout",
     "output_type": "stream",
     "text": [
      "[[0, 12640.470703836027, 149], [2, 14602.076034326823, 136], [7, 18713.137290434872, 280], [10, 19691.793368039336, 154], [20, 22969.560562669427, 251], [48, 23442.071304861205, 272], [73, 23868.291648556107, 213], [74, 26910.363053744895, 215], [76, 28785.848841897838, 205], [113, 30755.439973084598, 236], [128, 38244.988393076346, 94], [213, 39192.58551432365, 243], [247, 39506.759130797844, 313], [251, 39597.08448573585, 205], [260, 39794.34282046684, 206], [266, 42525.463439900304, 201], [280, 44616.14158169525, 198], [281, 58973.09417099327, 164], [335, 63612.31458376175, 115]]\n",
      "[[0, 6080.843124421144, 205.4], [2, 7033.042926302709, 223.8], [3, 7773.914340431789, 211.9], [7, 10246.515436416295, 237.8], [9, 10340.064058122567, 220.3], [11, 10512.155190214678, 194.1], [15, 11065.362771773263, 209.9], [20, 12757.21810690005, 225.9], [47, 13458.975845284314, 221.6], [57, 14759.865177635755, 211.8], [73, 15079.083092920362, 246.5], [96, 15350.367643066882, 255.1], [97, 15439.746174103715, 230.1], [108, 16137.326218303322, 254.5], [111, 16510.201773700093, 238.0], [113, 16754.04750871823, 223.1], [117, 17761.423526065722, 216.7], [128, 20101.5658888666, 219.3], [147, 20175.495963551533, 170.1], [149, 20191.9958741644, 185.1], [150, 20457.077404506148, 183.3], [157, 21028.828257394944, 221.4], [162, 21626.25013588552, 199.2], [181, 22275.66395756015, 217.9], [188, 23489.30378299513, 241.4], [232, 24752.877227523928, 264.2], [235, 25869.481248465523, 220.8], [246, 26035.333435736175, 240.0], [250, 26040.210008693488, 228.1], [253, 27230.175980837597, 227.8], [281, 28534.593220832678, 203.4], [289, 31119.105560647662, 211.5], [303, 31400.98530201376, 216.5], [315, 31531.454452854912, 225.7], [396, 31592.318041807925, 185.7], [397, 31970.5518146022, 183.3], [415, 32251.802928118017, 189.1]]\n"
     ]
    }
   ],
   "source": [
    "from HelperCLQGA import energy_from_circuit, genome_to_circuit\n",
    "from qiskit_aer import AerSimulator\n",
    "from scipy.optimize import minimize\n",
    "\n",
    "backend_sim = AerSimulator()\n",
    "upper_bound = 0.001\n",
    "lower_bound = 0\n",
    "\n",
    "# Data for the barcharts\n",
    "## Data for the best individual\n",
    "experiment_best_individual_graph_iters = []\n",
    "for individual in experiment_best_individual:\n",
    "    ## if the object you are trying to evaluate has chromosomes use the next line\n",
    "    # ind_ansatz,num_parameters = genome_to_circuit(individal.chromosome, 4, 20)\n",
    "    ## if the object has a unconfigured circuit use the next lines!\n",
    "    ind_ansatz = individual[4]\n",
    "    num_parameters = individual[4].num_parameters\n",
    "    parameters0 = [np.random.random()* (upper_bound-lower_bound)+lower_bound for _ in range(num_parameters)]\n",
    "    def expectation_function(parameters):\n",
    "        return energy_from_circuit(ind_ansatz.bind_parameters(parameters), ind_ansatz.num_qubits, observable_h, observable_j, 4000, backend_sim)\n",
    "    vqe_result = minimize(expectation_function,parameters0, method=\"COBYLA\", tol=1e-5, options={\"maxiter\":100**4})\n",
    "    # For Fitness plotting vs Minimise iterations\n",
    "    experiment_best_individual_graph_iters.append([individual[3],individual[0],vqe_result.nfev])\n",
    "\n",
    "experiment_best_family_graph_iters = []\n",
    "\n",
    "for family in experiment_best_family:\n",
    "    nfev = []\n",
    "    for i in family[3]:\n",
    "        ind_ansatz,num_parameters = genome_to_circuit(i, 10, len(i)//9)\n",
    "        parameters0 = [np.random.random()* (upper_bound-lower_bound)+lower_bound for _ in range(num_parameters)]\n",
    "        def expectation_function(parameters):\n",
    "            return energy_from_circuit(ind_ansatz.bind_parameters(parameters), ind_ansatz.num_qubits, observable_h, observable_j, 4000, backend_sim)\n",
    "        vqe_result = minimize(expectation_function,parameters0, method=\"COBYLA\", tol=1e-5, options={\"maxiter\":100**4})\n",
    "        nfev.append(int(vqe_result.nfev))\n",
    "    experiment_best_family_graph_iters.append([family[2],family[0],(sum(nfev)/len(family[3]))])\n",
    "print(experiment_best_individual_graph_iters)\n",
    "print(experiment_best_family_graph_iters)"
   ]
  },
  {
   "cell_type": "code",
   "execution_count": 108,
   "metadata": {},
   "outputs": [
    {
     "data": {
      "image/png": "[encoded data removed]",
      "text/plain": [
       "<Figure size 720x360 with 2 Axes>"
      ]
     },
     "metadata": {
      "needs_background": "light"
     },
     "output_type": "display_data"
    }
   ],
   "source": [
    "test = experiment_best_family_graph_iters\n",
    "\n",
    "df = pd.DataFrame(test, columns=[\"Generations\", \"Fitness\", \"Optimisation steps\"])\n",
    "fig = plt.figure(figsize=(10,5))\n",
    "ax = fig.add_subplot(111) # Create matplotlib axes\n",
    "ax2 = ax.twinx()\n",
    "width = 0.4\n",
    "df.iloc[:,2].plot(kind='bar', color='blue', ax=ax2, width=width, position=0)\n",
    "df.iloc[:,1].plot(kind='bar', color='orange', ax=ax, width=width, position=1)\n",
    "\n",
    "ax2.set_ylabel('Optimisation steps')\n",
    "ax.set_ylabel('Fitness')\n",
    "ax2.legend(loc='upper right', bbox_to_anchor=(1.318, 1))\n",
    "ax.legend(loc='upper right', bbox_to_anchor=(1.212, 0.91))\n",
    "ax.set_title(\"Best families optimisation steps for 10 qubits\")\n",
    "ax.set_xticklabels(df.iloc[:,0], rotation=90)\n",
    "# fig.subplots_adjust(bottom=0.3)\n",
    "ax.set_xlabel(\"Generation\")\n",
    "fig.savefig(\"energy10qubitbestfamilysteps.png\",dpi=300, bbox_inches=\"tight\", facecolor='white')\n",
    "plt.show()"
   ]
  },
  {
   "attachments": {},
   "cell_type": "markdown",
   "metadata": {},
   "source": [
    "If you want to visualise a chromosome use the following line of code"
   ]
  },
  {
   "cell_type": "code",
   "execution_count": 49,
   "metadata": {},
   "outputs": [
    {
     "data": {
      "image/png": "[encoded data removed]",
      "text/plain": [
       "<Figure size 466.79x385.28 with 1 Axes>"
      ]
     },
     "execution_count": 49,
     "metadata": {},
     "output_type": "execute_result"
    }
   ],
   "source": [
    "nr_of_qubits = 6\n",
    "nr_of_gates = 20\n",
    "chromosome = experiment_population[3].chromosome\n",
    "genome_to_circuit(experiment_population[3].chromosome, nr_of_qubits, nr_of_gates)[0].draw(output='mpl', idle_wires=False)"
   ]
  }
 ],
 "metadata": {
  "kernelspec": {
   "display_name": "Python 3",
   "language": "python",
   "name": "python3"
  },
  "language_info": {
   "codemirror_mode": {
    "name": "ipython",
    "version": 3
   },
   "file_extension": ".py",
   "mimetype": "text/x-python",
   "name": "python",
   "nbconvert_exporter": "python",
   "pygments_lexer": "ipython3",
   "version": "3.11.3"
  },
  "orig_nbformat": 4,
  "vscode": {
   "interpreter": {
    "hash": "ba398da8724e1d784c921a45a9f318102d2914d817e5f1854f0701fae7c3e0b5"
   }
  }
 },
 "nbformat": 4,
 "nbformat_minor": 2
}
