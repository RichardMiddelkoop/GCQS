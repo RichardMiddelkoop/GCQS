{
 "cells": [
  {
   "cell_type": "code",
   "execution_count": 83,
   "metadata": {},
   "outputs": [
    {
     "name": "stdout",
     "output_type": "stream",
     "text": [
      "       ┌───┐┌───────┐\n",
      "q68_0: ┤ H ├┤ Rx(1) ├\n",
      "       ├───┤├───────┤\n",
      "q68_1: ┤ H ├┤ Rx(2) ├\n",
      "       ├───┤└───────┘\n",
      "q68_2: ┤ H ├─────────\n",
      "       ├───┤         \n",
      "q68_3: ┤ H ├─────────\n",
      "       └───┘         \n",
      "ParameterView([Parameter(1), Parameter(2)])\n",
      "       ┌───┐┌───────────────────────┐\n",
      "q68_0: ┤ H ├┤ Rx(0.349398938987163) ├\n",
      "       ├───┤├───────────────────────┤\n",
      "q68_1: ┤ H ├┤ Rx(0.349398938987163) ├\n",
      "       ├───┤└───────────────────────┘\n",
      "q68_2: ┤ H ├─────────────────────────\n",
      "       ├───┤                         \n",
      "q68_3: ┤ H ├─────────────────────────\n",
      "       └───┘                         \n"
     ]
    }
   ],
   "source": [
    "from qiskit.circuit import QuantumCircuit, Parameter\n",
    "import numpy as np\n",
    "phi = Parameter(\"1\")\n",
    "phi2 = Parameter(\"2\")\n",
    "qr = QuantumRegister(nr_of_qubits)\n",
    "circuit = QuantumCircuit(qr)\n",
    "circuit.h([0])\n",
    "circuit.h([1])\n",
    "circuit.h([2])\n",
    "circuit.h([3])\n",
    "circuit.rx(phi,qubit=[0])\n",
    "circuit.rx(phi2,qubit=[1])\n",
    "print(circuit)\n",
    "print(circuit.parameters)\n",
    "value = np.random.random()\n",
    "parameters = [value for _ in range(2)]\n",
    "print(circuit.bind_parameters(parameters))"
   ]
  },
  {
   "cell_type": "code",
   "execution_count": 23,
   "metadata": {},
   "outputs": [
    {
     "name": "stdout",
     "output_type": "stream",
     "text": [
      "[0.14285714285714285]\n",
      "[0.14285714285714285, 0.0]\n",
      "0.07142857142857142\n"
     ]
    }
   ],
   "source": [
    "individual = \"0000000\"\n",
    "elitism_population = [\"1110111\",\"1111111\"]\n",
    "match_percentage = []\n",
    "def match(subject_1,subject_2):\n",
    "    return sum([int(subject_1[i] == subject_2[i]) for i in range(0,len(subject_1))])/len(subject_1)\n",
    "for elite in elitism_population:\n",
    "    match_percentage.append(match(individual,elite))\n",
    "    print(match_percentage)\n",
    "print(sum(match_percentage)/len(match_percentage))"
   ]
  },
  {
   "cell_type": "code",
   "execution_count": 14,
   "metadata": {},
   "outputs": [],
   "source": [
    "from Experiments import saveLoad\n",
    "from CLQGA import Individual\n",
    "output = saveLoad(\"load\",\"experiment_18_april_mucBoost_1\", None)\n",
    "experiment_population = output[0]\n",
    "experiment_duration = output[1]\n",
    "experiment_average_fitness_50_increment = output[2]\n",
    "experiment_average_crowd_score_50_increment = output[3]"
   ]
  },
  {
   "cell_type": "code",
   "execution_count": 15,
   "metadata": {},
   "outputs": [
    {
     "name": "stdout",
     "output_type": "stream",
     "text": [
      "[<CLQGA.Individual object at 0x7fb42337bf10>, <CLQGA.Individual object at 0x7fb4241337d0>, <CLQGA.Individual object at 0x7fb4233e8c50>, <CLQGA.Individual object at 0x7fb423989810>, <CLQGA.Individual object at 0x7fb424110290>, <CLQGA.Individual object at 0x7fb424112050>, <CLQGA.Individual object at 0x7fb4234ff090>, <CLQGA.Individual object at 0x7fb4234fd150>, <CLQGA.Individual object at 0x7fb4234fde90>, <CLQGA.Individual object at 0x7fb4234fe050>, <CLQGA.Individual object at 0x7fb4234fcf50>, <CLQGA.Individual object at 0x7fb4234fd910>, <CLQGA.Individual object at 0x7fb4234fe6d0>, <CLQGA.Individual object at 0x7fb4234ffdd0>, <CLQGA.Individual object at 0x7fb4234fc8d0>, <CLQGA.Individual object at 0x7fb4234ff490>, <CLQGA.Individual object at 0x7fb4234ff0d0>, <CLQGA.Individual object at 0x7fb422e703d0>, <CLQGA.Individual object at 0x7fb422e72350>, <CLQGA.Individual object at 0x7fb422e72550>, <CLQGA.Individual object at 0x7fb422e70bd0>, <CLQGA.Individual object at 0x7fb4233a03d0>, <CLQGA.Individual object at 0x7fb42a69d9d0>, <CLQGA.Individual object at 0x7fb42428ff90>, <CLQGA.Individual object at 0x7fb422dd9290>, <CLQGA.Individual object at 0x7fb422eb2610>, <CLQGA.Individual object at 0x7fb4240da2d0>, <CLQGA.Individual object at 0x7fb4240d8dd0>, <CLQGA.Individual object at 0x7fb4240d8d50>, <CLQGA.Individual object at 0x7fb422a7be50>, <CLQGA.Individual object at 0x7fb422a7a0d0>, <CLQGA.Individual object at 0x7fb422a78b90>, <CLQGA.Individual object at 0x7fb422a78dd0>, <CLQGA.Individual object at 0x7fb422a7a910>, <CLQGA.Individual object at 0x7fb422a7b6d0>, <CLQGA.Individual object at 0x7fb422a78f90>, <CLQGA.Individual object at 0x7fb422a79950>, <CLQGA.Individual object at 0x7fb422a7b8d0>, <CLQGA.Individual object at 0x7fb422a7b2d0>, <CLQGA.Individual object at 0x7fb422a7b4d0>, <CLQGA.Individual object at 0x7fb422a7aa90>, <CLQGA.Individual object at 0x7fb422a7b710>, <CLQGA.Individual object at 0x7fb422a7af10>, <CLQGA.Individual object at 0x7fb422a7b090>, <CLQGA.Individual object at 0x7fb422a78690>, <CLQGA.Individual object at 0x7fb422a79f50>, <CLQGA.Individual object at 0x7fb422a79d10>, <CLQGA.Individual object at 0x7fb422a7ba50>, <CLQGA.Individual object at 0x7fb422a79710>, <CLQGA.Individual object at 0x7fb4235117d0>, <CLQGA.Individual object at 0x7fb423a457d0>, <CLQGA.Individual object at 0x7fb423a46a50>, <CLQGA.Individual object at 0x7fb423a455d0>, <CLQGA.Individual object at 0x7fb422a8c650>, <CLQGA.Individual object at 0x7fb422a8c890>, <CLQGA.Individual object at 0x7fb422a8c590>, <CLQGA.Individual object at 0x7fb422a8c1d0>, <CLQGA.Individual object at 0x7fb422a8c110>, <CLQGA.Individual object at 0x7fb422a8c090>, <CLQGA.Individual object at 0x7fb422a8c450>, <CLQGA.Individual object at 0x7fb422a8c810>, <CLQGA.Individual object at 0x7fb422a8cb10>, <CLQGA.Individual object at 0x7fb422a8c850>, <CLQGA.Individual object at 0x7fb422a8c190>, <CLQGA.Individual object at 0x7fb422a8c250>, <CLQGA.Individual object at 0x7fb422a8cc50>, <CLQGA.Individual object at 0x7fb422a8ce10>, <CLQGA.Individual object at 0x7fb422a8cf50>, <CLQGA.Individual object at 0x7fb422a8d010>, <CLQGA.Individual object at 0x7fb422a8d0d0>, <CLQGA.Individual object at 0x7fb422a8d190>, <CLQGA.Individual object at 0x7fb422a8d250>, <CLQGA.Individual object at 0x7fb422a8d310>, <CLQGA.Individual object at 0x7fb422a8d3d0>, <CLQGA.Individual object at 0x7fb422a8d490>, <CLQGA.Individual object at 0x7fb422a8d550>, <CLQGA.Individual object at 0x7fb422a8d610>, <CLQGA.Individual object at 0x7fb422a8d6d0>, <CLQGA.Individual object at 0x7fb422a8d790>, <CLQGA.Individual object at 0x7fb422a8d850>, <CLQGA.Individual object at 0x7fb422a8d910>, <CLQGA.Individual object at 0x7fb422a8d9d0>, <CLQGA.Individual object at 0x7fb422a8da90>, <CLQGA.Individual object at 0x7fb422a8db50>, <CLQGA.Individual object at 0x7fb422a8dc10>, <CLQGA.Individual object at 0x7fb422a8dcd0>, <CLQGA.Individual object at 0x7fb422a8dd90>, <CLQGA.Individual object at 0x7fb422a8de50>, <CLQGA.Individual object at 0x7fb422a8df10>, <CLQGA.Individual object at 0x7fb422a8dfd0>, <CLQGA.Individual object at 0x7fb422a8e090>, <CLQGA.Individual object at 0x7fb422a8e150>, <CLQGA.Individual object at 0x7fb422a8e210>, <CLQGA.Individual object at 0x7fb422a8e2d0>, <CLQGA.Individual object at 0x7fb422a8e390>, <CLQGA.Individual object at 0x7fb422a8e450>, <CLQGA.Individual object at 0x7fb422a8e510>, <CLQGA.Individual object at 0x7fb422a8e5d0>, <CLQGA.Individual object at 0x7fb422a8e690>, <CLQGA.Individual object at 0x7fb422a8e750>]\n",
      "                            ┌─────┐                 \n",
      "q8_0: ───────────────────■──┤ Tdg ├─────────────────\n",
      "      ┌───────┐   ┌───┐  │  └┬───┬┘                 \n",
      "q8_1: ┤ Ry(0) ├─■─┤ S ├──■───┤ H ├──────────────────\n",
      "      └─┬───┬─┘ │ └───┘┌─┴─┐┌┴───┴┐┌─────┐┌───┐┌───┐\n",
      "q8_2: ──┤ H ├───┼──────┤ X ├┤ Tdg ├┤ Tdg ├┤ Y ├┤ H ├\n",
      "        └───┘   │      └───┘└─────┘└─────┘└───┘└─┬─┘\n",
      "q8_3: ──────────■────────────────────────────────■──\n",
      "                                                    \n"
     ]
    }
   ],
   "source": [
    "# [population,time.gmtime((time.perf_counter() - start_total_run_time)),data_average_fitness, data_average_crowd_score]\n",
    "from HelperCLQGA import genome_to_circuit\n",
    "print(output[0])\n",
    "print(genome_to_circuit(output[0][0].chromosome, 4, 20)[0])"
   ]
  }
 ],
 "metadata": {
  "kernelspec": {
   "display_name": "Python 3",
   "language": "python",
   "name": "python3"
  },
  "language_info": {
   "codemirror_mode": {
    "name": "ipython",
    "version": 3
   },
   "file_extension": ".py",
   "mimetype": "text/x-python",
   "name": "python",
   "nbconvert_exporter": "python",
   "pygments_lexer": "ipython3",
   "version": "3.11.3"
  },
  "orig_nbformat": 4,
  "vscode": {
   "interpreter": {
    "hash": "ba398da8724e1d784c921a45a9f318102d2914d817e5f1854f0701fae7c3e0b5"
   }
  }
 },
 "nbformat": 4,
 "nbformat_minor": 2
}
